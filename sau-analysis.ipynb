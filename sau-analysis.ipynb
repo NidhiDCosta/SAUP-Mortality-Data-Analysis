{
 "cells": [
  {
   "cell_type": "code",
   "execution_count": 1,
   "id": "00245680",
   "metadata": {},
   "outputs": [],
   "source": [
    "import pandas as pd\n",
    "import numpy as np\n",
    "import matplotlib.pyplot as plt\n",
    "import seaborn as sns\n",
    "\n",
    "from datetime import datetime\n",
    "sns.set_style(\"white\")\n",
    "sns.set_context(\"paper\")\n",
    "plt.rcParams[\"font.family\"] = \"Times New Roman\"\n",
    "plt.rcParams[\"font.size\"] = 14"
   ]
  },
  {
   "cell_type": "markdown",
   "id": "15726a63",
   "metadata": {},
   "source": [
    "### Load data\n",
    "#### Main SAU data file"
   ]
  },
  {
   "cell_type": "code",
   "execution_count": 2,
   "id": "cb4015a3",
   "metadata": {},
   "outputs": [],
   "source": [
    "def show_memory_alloc(df: pd.DataFrame) -> None:\n",
    "    mem = round(df.memory_usage().sum()/1024/1024/1024, 2)\n",
    "    print(f\"{mem} GB\")"
   ]
  },
  {
   "cell_type": "code",
   "execution_count": 3,
   "id": "1932e97e",
   "metadata": {},
   "outputs": [
    {
     "name": "stdout",
     "output_type": "stream",
     "text": [
      "Time taken to load file: 31s, 189579ms\n"
     ]
    },
    {
     "data": {
      "text/html": [
       "<div>\n",
       "<style scoped>\n",
       "    .dataframe tbody tr th:only-of-type {\n",
       "        vertical-align: middle;\n",
       "    }\n",
       "\n",
       "    .dataframe tbody tr th {\n",
       "        vertical-align: top;\n",
       "    }\n",
       "\n",
       "    .dataframe thead th {\n",
       "        text-align: right;\n",
       "    }\n",
       "</style>\n",
       "<table border=\"1\" class=\"dataframe\">\n",
       "  <thead>\n",
       "    <tr style=\"text-align: right;\">\n",
       "      <th></th>\n",
       "      <th>fishing_entity</th>\n",
       "      <th>cell_id</th>\n",
       "      <th>lon</th>\n",
       "      <th>lat</th>\n",
       "      <th>year</th>\n",
       "      <th>scientific_name</th>\n",
       "      <th>common_name</th>\n",
       "      <th>sector_type</th>\n",
       "      <th>catch_type</th>\n",
       "      <th>reporting_status</th>\n",
       "      <th>gear</th>\n",
       "      <th>sum</th>\n",
       "    </tr>\n",
       "  </thead>\n",
       "  <tbody>\n",
       "    <tr>\n",
       "      <th>0</th>\n",
       "      <td>Algeria</td>\n",
       "      <td>73811</td>\n",
       "      <td>5.25</td>\n",
       "      <td>38.75</td>\n",
       "      <td>2010</td>\n",
       "      <td>Carcharhinidae</td>\n",
       "      <td>Requiem sharks</td>\n",
       "      <td>Industrial</td>\n",
       "      <td>Landings</td>\n",
       "      <td>Unreported</td>\n",
       "      <td>unknown class</td>\n",
       "      <td>0.000035</td>\n",
       "    </tr>\n",
       "    <tr>\n",
       "      <th>1</th>\n",
       "      <td>Algeria</td>\n",
       "      <td>73811</td>\n",
       "      <td>5.25</td>\n",
       "      <td>38.75</td>\n",
       "      <td>2010</td>\n",
       "      <td>Elasmobranchii</td>\n",
       "      <td>Sharks, rays, skates</td>\n",
       "      <td>Industrial</td>\n",
       "      <td>Landings</td>\n",
       "      <td>Unreported</td>\n",
       "      <td>unknown class</td>\n",
       "      <td>0.032026</td>\n",
       "    </tr>\n",
       "    <tr>\n",
       "      <th>2</th>\n",
       "      <td>Algeria</td>\n",
       "      <td>73811</td>\n",
       "      <td>5.25</td>\n",
       "      <td>38.75</td>\n",
       "      <td>2010</td>\n",
       "      <td>Mustelus mustelus</td>\n",
       "      <td>Smooth-hound</td>\n",
       "      <td>Industrial</td>\n",
       "      <td>Landings</td>\n",
       "      <td>Reported</td>\n",
       "      <td>unknown class</td>\n",
       "      <td>0.000050</td>\n",
       "    </tr>\n",
       "    <tr>\n",
       "      <th>3</th>\n",
       "      <td>Algeria</td>\n",
       "      <td>73811</td>\n",
       "      <td>5.25</td>\n",
       "      <td>38.75</td>\n",
       "      <td>2011</td>\n",
       "      <td>Batoidea</td>\n",
       "      <td>Batoids, skates, rays, sawfishes</td>\n",
       "      <td>Industrial</td>\n",
       "      <td>Landings</td>\n",
       "      <td>Unreported</td>\n",
       "      <td>unknown class</td>\n",
       "      <td>0.000004</td>\n",
       "    </tr>\n",
       "    <tr>\n",
       "      <th>4</th>\n",
       "      <td>Algeria</td>\n",
       "      <td>73811</td>\n",
       "      <td>5.25</td>\n",
       "      <td>38.75</td>\n",
       "      <td>2011</td>\n",
       "      <td>Carcharhinidae</td>\n",
       "      <td>Requiem sharks</td>\n",
       "      <td>Industrial</td>\n",
       "      <td>Landings</td>\n",
       "      <td>Unreported</td>\n",
       "      <td>unknown class</td>\n",
       "      <td>0.000034</td>\n",
       "    </tr>\n",
       "    <tr>\n",
       "      <th>...</th>\n",
       "      <td>...</td>\n",
       "      <td>...</td>\n",
       "      <td>...</td>\n",
       "      <td>...</td>\n",
       "      <td>...</td>\n",
       "      <td>...</td>\n",
       "      <td>...</td>\n",
       "      <td>...</td>\n",
       "      <td>...</td>\n",
       "      <td>...</td>\n",
       "      <td>...</td>\n",
       "      <td>...</td>\n",
       "    </tr>\n",
       "    <tr>\n",
       "      <th>31390122</th>\n",
       "      <td>Yemen</td>\n",
       "      <td>135089</td>\n",
       "      <td>44.25</td>\n",
       "      <td>-3.75</td>\n",
       "      <td>2014</td>\n",
       "      <td>Elasmobranchii</td>\n",
       "      <td>Sharks, rays, skates</td>\n",
       "      <td>Industrial</td>\n",
       "      <td>Landings</td>\n",
       "      <td>Unreported</td>\n",
       "      <td>bottom trawl</td>\n",
       "      <td>0.150750</td>\n",
       "    </tr>\n",
       "    <tr>\n",
       "      <th>31390123</th>\n",
       "      <td>Yemen</td>\n",
       "      <td>135089</td>\n",
       "      <td>44.25</td>\n",
       "      <td>-3.75</td>\n",
       "      <td>2015</td>\n",
       "      <td>Elasmobranchii</td>\n",
       "      <td>Sharks, rays, skates</td>\n",
       "      <td>Industrial</td>\n",
       "      <td>Landings</td>\n",
       "      <td>Unreported</td>\n",
       "      <td>bottom trawl</td>\n",
       "      <td>0.150750</td>\n",
       "    </tr>\n",
       "    <tr>\n",
       "      <th>31390124</th>\n",
       "      <td>Yemen</td>\n",
       "      <td>135089</td>\n",
       "      <td>44.25</td>\n",
       "      <td>-3.75</td>\n",
       "      <td>2016</td>\n",
       "      <td>Elasmobranchii</td>\n",
       "      <td>Sharks, rays, skates</td>\n",
       "      <td>Industrial</td>\n",
       "      <td>Landings</td>\n",
       "      <td>Unreported</td>\n",
       "      <td>bottom trawl</td>\n",
       "      <td>0.150750</td>\n",
       "    </tr>\n",
       "    <tr>\n",
       "      <th>31390125</th>\n",
       "      <td>Yemen</td>\n",
       "      <td>135089</td>\n",
       "      <td>44.25</td>\n",
       "      <td>-3.75</td>\n",
       "      <td>2017</td>\n",
       "      <td>Elasmobranchii</td>\n",
       "      <td>Sharks, rays, skates</td>\n",
       "      <td>Industrial</td>\n",
       "      <td>Landings</td>\n",
       "      <td>Unreported</td>\n",
       "      <td>bottom trawl</td>\n",
       "      <td>0.150750</td>\n",
       "    </tr>\n",
       "    <tr>\n",
       "      <th>31390126</th>\n",
       "      <td>Yemen</td>\n",
       "      <td>135089</td>\n",
       "      <td>44.25</td>\n",
       "      <td>-3.75</td>\n",
       "      <td>2018</td>\n",
       "      <td>Elasmobranchii</td>\n",
       "      <td>Sharks, rays, skates</td>\n",
       "      <td>Industrial</td>\n",
       "      <td>Landings</td>\n",
       "      <td>Unreported</td>\n",
       "      <td>bottom trawl</td>\n",
       "      <td>0.150750</td>\n",
       "    </tr>\n",
       "  </tbody>\n",
       "</table>\n",
       "<p>31390127 rows × 12 columns</p>\n",
       "</div>"
      ],
      "text/plain": [
       "         fishing_entity  cell_id    lon    lat  year    scientific_name  \\\n",
       "0               Algeria    73811   5.25  38.75  2010     Carcharhinidae   \n",
       "1               Algeria    73811   5.25  38.75  2010     Elasmobranchii   \n",
       "2               Algeria    73811   5.25  38.75  2010  Mustelus mustelus   \n",
       "3               Algeria    73811   5.25  38.75  2011           Batoidea   \n",
       "4               Algeria    73811   5.25  38.75  2011     Carcharhinidae   \n",
       "...                 ...      ...    ...    ...   ...                ...   \n",
       "31390122          Yemen   135089  44.25  -3.75  2014     Elasmobranchii   \n",
       "31390123          Yemen   135089  44.25  -3.75  2015     Elasmobranchii   \n",
       "31390124          Yemen   135089  44.25  -3.75  2016     Elasmobranchii   \n",
       "31390125          Yemen   135089  44.25  -3.75  2017     Elasmobranchii   \n",
       "31390126          Yemen   135089  44.25  -3.75  2018     Elasmobranchii   \n",
       "\n",
       "                               common_name sector_type catch_type  \\\n",
       "0                           Requiem sharks  Industrial   Landings   \n",
       "1                     Sharks, rays, skates  Industrial   Landings   \n",
       "2                             Smooth-hound  Industrial   Landings   \n",
       "3         Batoids, skates, rays, sawfishes  Industrial   Landings   \n",
       "4                           Requiem sharks  Industrial   Landings   \n",
       "...                                    ...         ...        ...   \n",
       "31390122              Sharks, rays, skates  Industrial   Landings   \n",
       "31390123              Sharks, rays, skates  Industrial   Landings   \n",
       "31390124              Sharks, rays, skates  Industrial   Landings   \n",
       "31390125              Sharks, rays, skates  Industrial   Landings   \n",
       "31390126              Sharks, rays, skates  Industrial   Landings   \n",
       "\n",
       "         reporting_status           gear       sum  \n",
       "0              Unreported  unknown class  0.000035  \n",
       "1              Unreported  unknown class  0.032026  \n",
       "2                Reported  unknown class  0.000050  \n",
       "3              Unreported  unknown class  0.000004  \n",
       "4              Unreported  unknown class  0.000034  \n",
       "...                   ...            ...       ...  \n",
       "31390122       Unreported   bottom trawl  0.150750  \n",
       "31390123       Unreported   bottom trawl  0.150750  \n",
       "31390124       Unreported   bottom trawl  0.150750  \n",
       "31390125       Unreported   bottom trawl  0.150750  \n",
       "31390126       Unreported   bottom trawl  0.150750  \n",
       "\n",
       "[31390127 rows x 12 columns]"
      ]
     },
     "execution_count": 3,
     "metadata": {},
     "output_type": "execute_result"
    }
   ],
   "source": [
    "t0 = datetime.now()\n",
    "# --------------------- Load big dataset --------------------- #\n",
    "file = \"data/spatial catches of elasmobranchii in 2010-2018.csv\"\n",
    "df = pd.read_csv(file)\n",
    "# ------------------------------------------------------------ #\n",
    "t1 = datetime.now()\n",
    "print(f\"Time taken to load file: {(t1-t0).seconds}s, {(t1-t0).microseconds}ms\")\n",
    "df"
   ]
  },
  {
   "cell_type": "code",
   "execution_count": 4,
   "id": "3d058902",
   "metadata": {},
   "outputs": [
    {
     "name": "stdout",
     "output_type": "stream",
     "text": [
      "2.81 GB\n"
     ]
    }
   ],
   "source": [
    "show_memory_alloc(df)"
   ]
  },
  {
   "cell_type": "markdown",
   "id": "6bdad5fc",
   "metadata": {},
   "source": [
    "#### Other supplementary data"
   ]
  },
  {
   "cell_type": "code",
   "execution_count": 5,
   "id": "926db893",
   "metadata": {},
   "outputs": [],
   "source": [
    "# Poste release mortality data\n",
    "mortality = pd.read_excel(\"data/post_release_mortality.xlsx\")\n",
    "\n",
    "# Fate after bycatch data\n",
    "bycatch_fate = pd.read_excel(\"data/bycatch_fate.xlsx\")\n",
    "\n",
    "# Taxonomy data\n",
    "taxa = pd.read_csv(\"data/sau_spp_taxonomy_ref.csv\")\n",
    "\n",
    "# Gear data\n",
    "gear = pd.read_excel(\"data/Gear_groups_SAUP.xlsx\")\n",
    "\n",
    "# List of true shark species\n",
    "shark_species_data = pd.read_excel(\"data/List of true shark species_SAUP_2010-2018.xlsx\", index_col=0)\n",
    "shark_species_data.columns = [col.lower() for col in shark_species_data.columns]"
   ]
  },
  {
   "cell_type": "markdown",
   "id": "cffa7f74",
   "metadata": {},
   "source": [
    "### Graphs"
   ]
  },
  {
   "cell_type": "markdown",
   "id": "33691aae",
   "metadata": {},
   "source": [
    "### 8-February-2022"
   ]
  },
  {
   "cell_type": "markdown",
   "id": "11cb7bc7",
   "metadata": {},
   "source": [
    "#### (a) Total elasmobranch and shark landings over the last 10 years according to the SAUP dataset"
   ]
  },
  {
   "cell_type": "code",
   "execution_count": 6,
   "id": "81544b33",
   "metadata": {},
   "outputs": [
    {
     "name": "stdout",
     "output_type": "stream",
     "text": [
      "1.8 GB\n",
      "1.42 GB\n"
     ]
    }
   ],
   "source": [
    "# All landing data\n",
    "landings = df[df.catch_type == \"Landings\"]\n",
    "l = landings.groupby(\"year\")[\"sum\"].sum()\n",
    "show_memory_alloc(landings)\n",
    "\n",
    "# All shark landing data\n",
    "shark_list = shark_species_data.common_name\n",
    "landings_shark = landings[landings[\"common_name\"].isin(shark_list)]\n",
    "l2 = landings_shark.groupby(\"year\")[\"sum\"].sum()\n",
    "show_memory_alloc(landings_shark)"
   ]
  },
  {
   "cell_type": "code",
   "execution_count": 7,
   "id": "3200c316",
   "metadata": {},
   "outputs": [
    {
     "data": {
      "image/png": "[encoded data removed]",
      "text/plain": [
       "<Figure size 864x432 with 1 Axes>"
      ]
     },
     "metadata": {},
     "output_type": "display_data"
    }
   ],
   "source": [
    "# Plot\n",
    "fig, ax = plt.subplots(figsize=(12, 6))\n",
    "sns.lineplot(x=l.index, y=l.values, label=\"Total elasmobranch\")\n",
    "sns.lineplot(x=l2.index, y=l2.values, label=\"Total shark\")\n",
    "plt.ylabel(\"catch (tonnes)\")\n",
    "plt.show()\n",
    "# Save and clear memory\n",
    "fig.savefig(\"outputs/total elasmobranch and shark landings over the last 10 years according to the SAUP dataset.jpg\", dpi=300)"
   ]
  },
  {
   "cell_type": "markdown",
   "id": "27e3a56b",
   "metadata": {},
   "source": [
    "#### (b) Total elasmobranch and shark discards over the last 10 years according to the SAUP dataset. "
   ]
  },
  {
   "cell_type": "code",
   "execution_count": 8,
   "id": "2f7fda2d",
   "metadata": {},
   "outputs": [],
   "source": [
    "# All discard data\n",
    "discards = df[df.catch_type == \"Discards\"]\n",
    "d = discards.groupby(\"year\")[\"sum\"].sum()\n",
    "\n",
    "# All shark discard data\n",
    "discards_shark = discards[discards[\"common_name\"].isin(shark_list)]\n",
    "d2 = discards_shark.groupby(\"year\")[\"sum\"].sum()"
   ]
  },
  {
   "cell_type": "code",
   "execution_count": 9,
   "id": "b843a8f0",
   "metadata": {},
   "outputs": [
    {
     "data": {
      "image/png": "[encoded data removed]",
      "text/plain": [
       "<Figure size 864x432 with 1 Axes>"
      ]
     },
     "metadata": {},
     "output_type": "display_data"
    }
   ],
   "source": [
    "# Plot\n",
    "fig, ax = plt.subplots(figsize=(12, 6))\n",
    "sns.lineplot(x=d.index, y=d.values, label=\"Total elasmobranch\")\n",
    "sns.lineplot(x=d2.index, y=d2.values, label=\"Total shark\")\n",
    "plt.ylabel(\"catch (tonnes)\")\n",
    "plt.show()\n",
    "# Save\n",
    "fig.savefig(\"outputs/total elasmobranch and shark discards over the last 10 years according to the SAUP dataset.jpg\", dpi=300)"
   ]
  },
  {
   "cell_type": "markdown",
   "id": "fdfb4891",
   "metadata": {},
   "source": [
    "#### (c) Average reported and unreported catch of sharks over the last 10 years according to the SAUP dataset"
   ]
  },
  {
   "cell_type": "code",
   "execution_count": 10,
   "id": "4a276b0e",
   "metadata": {},
   "outputs": [],
   "source": [
    "df_shark = df[df[\"common_name\"].isin(shark_list)]\n",
    "df_shark_reported = df_shark[df_shark.reporting_status == \"Reported\"].groupby(\"year\")[\"sum\"].sum()\n",
    "df_shark_upreported = df_shark[df_shark.reporting_status == \"Unreported\"].groupby(\"year\")[\"sum\"].sum()\n",
    "\n",
    "# All elasmobranch including sharks\n",
    "df_unreported = df[df.reporting_status == \"Unreported\"].groupby(\"year\")[\"sum\"].sum()"
   ]
  },
  {
   "cell_type": "markdown",
   "id": "44d4789a",
   "metadata": {},
   "source": [
    "- Stacked bar plot: reported vs unreported shark catch (2010-2018)"
   ]
  },
  {
   "cell_type": "code",
   "execution_count": 12,
   "id": "470a526e",
   "metadata": {},
   "outputs": [
    {
     "data": {
      "image/png": "[encoded data removed]",
      "text/plain": [
       "<Figure size 864x432 with 1 Axes>"
      ]
     },
     "metadata": {},
     "output_type": "display_data"
    }
   ],
   "source": [
    "# Font settings\n",
    "plt.rcParams[\"font.family\"] = \"Times New Roman\"\n",
    "plt.rcParams[\"font.size\"] = 16\n",
    "\n",
    "# Figure style\n",
    "fsize = (12, 6)\n",
    "cmap = \"viridis\"\n",
    "\n",
    "# Plot\n",
    "a = df_shark.pivot_table(\n",
    "    index=\"year\",\n",
    "    columns=\"reporting_status\",\n",
    "    values=\"sum\",\n",
    "    aggfunc=np.sum,\n",
    ")\n",
    "a.plot(kind='bar', stacked=True, cmap=cmap, figsize=fsize, edgecolor=\"k\")\n",
    "plt.xlabel(\"\")\n",
    "plt.ylabel(\"total catch of sharks (tons)\")\n",
    "plt.ylabel(\"total catch of sharks (tons)\", fontsize=14)\n",
    "plt.xticks(rotation=0, fontsize=14)\n",
    "plt.yticks(fontsize=14)\n",
    "plt.legend(title=\"\", prop={'size': 14})\n",
    "plt.tight_layout()\n",
    "\n",
    "# Save and clear memory\n",
    "plt.savefig(\"outputs/total shark catch (2010-2018).jpg\", dpi=300)"
   ]
  },
  {
   "cell_type": "code",
   "execution_count": null,
   "id": "c525474d",
   "metadata": {},
   "outputs": [],
   "source": []
  },
  {
   "cell_type": "code",
   "execution_count": null,
   "id": "afed309e",
   "metadata": {},
   "outputs": [],
   "source": []
  },
  {
   "cell_type": "code",
   "execution_count": null,
   "id": "5815a88a",
   "metadata": {},
   "outputs": [],
   "source": []
  },
  {
   "cell_type": "code",
   "execution_count": null,
   "id": "f6168c98",
   "metadata": {},
   "outputs": [],
   "source": []
  },
  {
   "cell_type": "code",
   "execution_count": null,
   "id": "ef0015e1",
   "metadata": {},
   "outputs": [],
   "source": []
  },
  {
   "cell_type": "code",
   "execution_count": null,
   "id": "4e299e0e",
   "metadata": {},
   "outputs": [],
   "source": []
  },
  {
   "cell_type": "code",
   "execution_count": null,
   "id": "66ce9d95",
   "metadata": {},
   "outputs": [],
   "source": []
  },
  {
   "cell_type": "code",
   "execution_count": null,
   "id": "3e40a133",
   "metadata": {},
   "outputs": [],
   "source": []
  },
  {
   "cell_type": "code",
   "execution_count": null,
   "id": "fcea676a",
   "metadata": {},
   "outputs": [],
   "source": [
    "# Plot\n",
    "fig, ax = plt.subplots(figsize=(12, 6))\n",
    "sns.lineplot(x=df_unreported.index, y=df_unreported.values, label=\"All elasmobranch\")\n",
    "sns.lineplot(x=df_shark_upreported.index, y=df_shark_upreported.values, label=\"Only sharks\")\n",
    "ax.set_title(\"Unreported\")\n",
    "plt.ylabel(\"catch (tonnes)\")\n",
    "plt.show()\n",
    "# Save and clear memory\n",
    "fig.savefig(\"outputs/average reported and unreported catch of sharks over the last 10 years according to the SAUP dataset.jpg\", dpi=300)"
   ]
  },
  {
   "cell_type": "markdown",
   "id": "eee0775f",
   "metadata": {},
   "source": [
    "#### (d) Map of total shark catch for the 176 countries and reported and unreported percentages over last ten years"
   ]
  },
  {
   "cell_type": "code",
   "execution_count": null,
   "id": "6edc6db9",
   "metadata": {},
   "outputs": [],
   "source": [
    "a = df_shark[[\"fishing_entity\", \"reporting_status\", \"sum\"]]\n",
    "pt = a.pivot_table(\n",
    "    index=\"fishing_entity\",\n",
    "    columns=\"reporting_status\",\n",
    "    values=\"sum\",\n",
    "    aggfunc=np.sum\n",
    ")\n",
    "pt[\"total\"] = pt.sum(axis=1)\n",
    "pt = pt.reset_index()\n",
    "pt"
   ]
  },
  {
   "cell_type": "code",
   "execution_count": null,
   "id": "3af7cf37",
   "metadata": {
    "scrolled": true
   },
   "outputs": [],
   "source": [
    "# Save and clear memory\n",
    "pt.to_excel(\"outputs/total shark catch for the 176 countries (2010-2018).xlsx\")"
   ]
  },
  {
   "cell_type": "markdown",
   "id": "0d2580a0",
   "metadata": {},
   "source": [
    "### 9-10 February 2022"
   ]
  },
  {
   "cell_type": "markdown",
   "id": "a36e2361",
   "metadata": {},
   "source": [
    "#### (a) Catch of shark species classified according to their family for the top 10 shark fishing nations over the last decade (SAUP, 2020).\n"
   ]
  },
  {
   "cell_type": "code",
   "execution_count": null,
   "id": "2b61a4b2",
   "metadata": {},
   "outputs": [],
   "source": [
    "m = df_shark.merge(\n",
    "    taxa[[\"common_name\", \"family_name\", \"order_name\", \"genus\"]],\n",
    "    on=\"common_name\", how=\"left\"\n",
    ")\n",
    "if len(m) == len(df_shark):\n",
    "    print(\"Row lengths preserved! Validation successfull!\")\n",
    "    \n",
    "    # Format data\n",
    "    country_pivot = m.pivot_table(\n",
    "        index=\"fishing_entity\",\n",
    "        columns=\"order_name\",\n",
    "        values=\"sum\",\n",
    "        aggfunc=np.sum,\n",
    "    )\n",
    "    # Add row total column\n",
    "    country_pivot[\"total\"] = country_pivot.sum(axis=1)\n",
    "    \n",
    "    # Show only top 10 results\n",
    "    top_10 = country_pivot.sort_values(by=\"total\", ascending=False).drop(\"total\", axis=1).head(10)\n",
    "    \n",
    "    # Convert unit from tonnes to 1000 tonnes\n",
    "    top_10 = top_10/1000\n",
    "    \n",
    "    # Save table to file\n",
    "    top_10.to_excel(\"outputs/[pivot] shark catch of top 10 shark fishing nations grouped by order.xlsx\")\n",
    "else:\n",
    "    print(\"Validation failed!\")"
   ]
  },
  {
   "cell_type": "code",
   "execution_count": null,
   "id": "f534b9e0",
   "metadata": {},
   "outputs": [],
   "source": [
    "top_10"
   ]
  },
  {
   "cell_type": "code",
   "execution_count": null,
   "id": "2c8016dd",
   "metadata": {},
   "outputs": [],
   "source": [
    "# Font settings\n",
    "plt.rcParams[\"font.family\"] = \"Times New Roman\"\n",
    "plt.rcParams[\"font.size\"] = 16\n",
    "\n",
    "# Figure style\n",
    "fsize = (12, 12)\n",
    "cmap = \"viridis\"\n",
    "\n",
    "# Plot\n",
    "ax = top_10.plot(kind='bar', stacked=True, cmap=cmap, figsize=fsize, edgecolor=\"k\")\n",
    "ax.legend(loc=\"upper right\")\n",
    "plt.xlabel(\"\")\n",
    "plt.ylabel(\"Total catch (thousands of tonnes)\", fontsize=16)\n",
    "plt.xticks(rotation=0, fontsize=16)\n",
    "plt.yticks(fontsize=16)\n",
    "plt.legend(title=\"\", prop={'size': 16})\n",
    "\n",
    "# Save\n",
    "plt.savefig(\"outputs/shark catch of top 10 shark fishing nations grouped by order.jpg\")"
   ]
  },
  {
   "cell_type": "markdown",
   "id": "b9e0306c",
   "metadata": {},
   "source": [
    "#### (b) Total catch of shark species in each type of gear used by the top 10 shark fishing nations over the last decade (SAUP, 2020)."
   ]
  },
  {
   "cell_type": "code",
   "execution_count": null,
   "id": "af2b2fe0",
   "metadata": {},
   "outputs": [],
   "source": [
    "m2 = m.merge(\n",
    "    gear, on=\"gear\", how=\"left\"\n",
    ")\n",
    "\n",
    "if len(m2) == len(df_shark):\n",
    "    print(\"Row lengths preserved! Validation successfull!\")\n",
    "    # Format data\n",
    "    country_pivot = m2.pivot_table(\n",
    "        index=\"fishing_entity\",\n",
    "        columns=\"gear_group\",\n",
    "        values=\"sum\",\n",
    "        aggfunc=np.sum,\n",
    "    )    \n",
    "    # Add row total column\n",
    "    country_pivot[\"total\"] = country_pivot.sum(axis=1)\n",
    "    \n",
    "    # Show only top 10 results\n",
    "    top_10 = country_pivot.sort_values(by=\"total\", ascending=False).drop(\"total\", axis=1).head(10)\n",
    "    \n",
    "    # Convert unit from tonnes to 1000 tonnes\n",
    "    top_10 = top_10/1000\n",
    "    \n",
    "    # Save table to file\n",
    "    top_10.to_excel(\"outputs/[pivot] shark catch of top 10 shark fishing nations grouped by gear.xlsx\")\n",
    "else:\n",
    "    print(\"Validation failed!\")"
   ]
  },
  {
   "cell_type": "code",
   "execution_count": null,
   "id": "501c5a2b",
   "metadata": {},
   "outputs": [],
   "source": [
    "# Font settings\n",
    "plt.rcParams[\"font.family\"] = \"Times New Roman\"\n",
    "plt.rcParams[\"font.size\"] = 16\n",
    "\n",
    "# Figure style\n",
    "fsize = (12, 12)\n",
    "cmap = \"mako\"\n",
    "\n",
    "# Plot\n",
    "ax = top_10.plot(kind='bar', stacked=True, cmap=cmap, figsize=fsize, edgecolor=\"k\")\n",
    "ax.legend(loc=\"upper right\")\n",
    "plt.xlabel(\"\")\n",
    "plt.ylabel(\"Total catch (thousands of tonnes)\", fontsize=16)\n",
    "plt.xticks(rotation=0, fontsize=16)\n",
    "plt.yticks(fontsize=12)\n",
    "plt.legend(title=\"\", prop={'size': 16})\n",
    "\n",
    "# Save\n",
    "plt.savefig(\"outputs/shark catch of top 10 shark fishing nations grouped by gear.jpg\")"
   ]
  },
  {
   "cell_type": "code",
   "execution_count": null,
   "id": "9a3b96bb",
   "metadata": {},
   "outputs": [],
   "source": []
  },
  {
   "cell_type": "code",
   "execution_count": null,
   "id": "44b45207",
   "metadata": {},
   "outputs": [],
   "source": []
  },
  {
   "cell_type": "code",
   "execution_count": null,
   "id": "ceded1eb",
   "metadata": {},
   "outputs": [],
   "source": []
  },
  {
   "cell_type": "markdown",
   "id": "38076ce0",
   "metadata": {},
   "source": [
    "##### CMAPS:\n",
    "'Accent', 'Accent_r', 'Blues', 'Blues_r', 'BrBG', 'BrBG_r', 'BuGn', 'BuGn_r', 'BuPu', 'BuPu_r', 'CMRmap', 'CMRmap_r', 'Dark2', 'Dark2_r', 'GnBu', 'GnBu_r', 'Greens', 'Greens_r', 'Greys', 'Greys_r', 'OrRd', 'OrRd_r', 'Oranges', 'Oranges_r', 'PRGn', 'PRGn_r', 'Paired', 'Paired_r', 'Pastel1', 'Pastel1_r', 'Pastel2', 'Pastel2_r', 'PiYG', 'PiYG_r', 'PuBu', 'PuBuGn', 'PuBuGn_r', 'PuBu_r', 'PuOr', 'PuOr_r', 'PuRd', 'PuRd_r', 'Purples', 'Purples_r', 'RdBu', 'RdBu_r', 'RdGy', 'RdGy_r', 'RdPu', 'RdPu_r', 'RdYlBu', 'RdYlBu_r', 'RdYlGn', 'RdYlGn_r', 'Reds', 'Reds_r', 'Set1', 'Set1_r', 'Set2', 'Set2_r', 'Set3', 'Set3_r', 'Spectral', 'Spectral_r', 'Wistia', 'Wistia_r', 'YlGn', 'YlGnBu', 'YlGnBu_r', 'YlGn_r', 'YlOrBr', 'YlOrBr_r', 'YlOrRd', 'YlOrRd_r', 'afmhot', 'afmhot_r', 'autumn', 'autumn_r', 'binary', 'binary_r', 'bone', 'bone_r', 'brg', 'brg_r', 'bwr', 'bwr_r', 'cividis', 'cividis_r', 'cool', 'cool_r', 'coolwarm', 'coolwarm_r', 'copper', 'copper_r', 'crest', 'crest_r', 'cubehelix', 'cubehelix_r', 'flag', 'flag_r', 'flare', 'flare_r', 'gist_earth', 'gist_earth_r', 'gist_gray', 'gist_gray_r', 'gist_heat', 'gist_heat_r', 'gist_ncar', 'gist_ncar_r', 'gist_rainbow', 'gist_rainbow_r', 'gist_stern', 'gist_stern_r', 'gist_yarg', 'gist_yarg_r', 'gnuplot', 'gnuplot2', 'gnuplot2_r', 'gnuplot_r', 'gray', 'gray_r', 'hot', 'hot_r', 'hsv', 'hsv_r', 'icefire', 'icefire_r', 'inferno', 'inferno_r', 'jet', 'jet_r', 'magma', 'magma_r', 'mako', 'mako_r', 'nipy_spectral', 'nipy_spectral_r', 'ocean', 'ocean_r', 'pink', 'pink_r', 'plasma', 'plasma_r', 'prism', 'prism_r', 'rainbow', 'rainbow_r', 'rocket', 'rocket_r', 'seismic', 'seismic_r', 'spring', 'spring_r', 'summer', 'summer_r', 'tab10', 'tab10_r', 'tab20', 'tab20_r', 'tab20b', 'tab20b_r', 'tab20c', 'tab20c_r', 'terrain', 'terrain_r', 'turbo', 'turbo_r', 'twilight', 'twilight_r', 'twilight_shifted', 'twilight_shifted_r', 'viridis', 'viridis_r', 'vlag', 'vlag_r', 'winter', 'winter_r'"
   ]
  },
  {
   "cell_type": "code",
   "execution_count": null,
   "id": "fe0f25c7",
   "metadata": {},
   "outputs": [],
   "source": []
  }
 ],
 "metadata": {
  "kernelspec": {
   "display_name": "Python 3 (ipykernel)",
   "language": "python",
   "name": "python3"
  },
  "language_info": {
   "codemirror_mode": {
    "name": "ipython",
    "version": 3
   },
   "file_extension": ".py",
   "mimetype": "text/x-python",
   "name": "python",
   "nbconvert_exporter": "python",
   "pygments_lexer": "ipython3",
   "version": "3.9.7"
  }
 },
 "nbformat": 4,
 "nbformat_minor": 5
}
