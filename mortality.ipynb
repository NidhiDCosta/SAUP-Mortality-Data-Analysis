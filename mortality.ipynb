{
 "cells": [
  {
   "cell_type": "code",
   "execution_count": 1,
   "id": "a927a8f4",
   "metadata": {},
   "outputs": [],
   "source": [
    "import pandas as pd\n",
    "import numpy as np\n",
    "import matplotlib.pyplot as plt\n",
    "import seaborn as sns\n",
    "from sklearn.model_selection import train_test_split\n",
    "from datetime import datetime\n",
    "sns.set_style(\"white\")\n",
    "sns.set_context(\"paper\")\n",
    "plt.rcParams[\"font.family\"] = \"Times New Roman\"\n",
    "plt.rcParams[\"font.size\"] = 14"
   ]
  },
  {
   "cell_type": "markdown",
   "id": "d89450c7",
   "metadata": {},
   "source": [
    "## 0. Load data"
   ]
  },
  {
   "cell_type": "code",
   "execution_count": 2,
   "id": "9a84d5fe",
   "metadata": {},
   "outputs": [],
   "source": [
    "def show_memory_alloc(df: pd.DataFrame) -> None:\n",
    "    mem = round(df.memory_usage().sum()/1024/1024/1024, 2)\n",
    "    print(f\"{mem} GB\")"
   ]
  },
  {
   "cell_type": "markdown",
   "id": "0ae346bc",
   "metadata": {},
   "source": [
    "### 0.1 SAU data"
   ]
  },
  {
   "cell_type": "code",
   "execution_count": 3,
   "id": "f42239be",
   "metadata": {},
   "outputs": [
    {
     "name": "stdout",
     "output_type": "stream",
     "text": [
      "Time taken to load file: 41s, 546391ms\n",
      "2.81 GB\n"
     ]
    },
    {
     "data": {
      "text/html": [
       "<div>\n",
       "<style scoped>\n",
       "    .dataframe tbody tr th:only-of-type {\n",
       "        vertical-align: middle;\n",
       "    }\n",
       "\n",
       "    .dataframe tbody tr th {\n",
       "        vertical-align: top;\n",
       "    }\n",
       "\n",
       "    .dataframe thead th {\n",
       "        text-align: right;\n",
       "    }\n",
       "</style>\n",
       "<table border=\"1\" class=\"dataframe\">\n",
       "  <thead>\n",
       "    <tr style=\"text-align: right;\">\n",
       "      <th></th>\n",
       "      <th>fishing_entity</th>\n",
       "      <th>cell_id</th>\n",
       "      <th>lon</th>\n",
       "      <th>lat</th>\n",
       "      <th>year</th>\n",
       "      <th>scientific_name</th>\n",
       "      <th>common_name</th>\n",
       "      <th>sector_type</th>\n",
       "      <th>catch_type</th>\n",
       "      <th>reporting_status</th>\n",
       "      <th>gear</th>\n",
       "      <th>sum</th>\n",
       "    </tr>\n",
       "  </thead>\n",
       "  <tbody>\n",
       "    <tr>\n",
       "      <th>0</th>\n",
       "      <td>Algeria</td>\n",
       "      <td>73811</td>\n",
       "      <td>5.25</td>\n",
       "      <td>38.75</td>\n",
       "      <td>2010</td>\n",
       "      <td>Carcharhinidae</td>\n",
       "      <td>Requiem sharks</td>\n",
       "      <td>Industrial</td>\n",
       "      <td>Landings</td>\n",
       "      <td>Unreported</td>\n",
       "      <td>unknown class</td>\n",
       "      <td>0.000035</td>\n",
       "    </tr>\n",
       "    <tr>\n",
       "      <th>1</th>\n",
       "      <td>Algeria</td>\n",
       "      <td>73811</td>\n",
       "      <td>5.25</td>\n",
       "      <td>38.75</td>\n",
       "      <td>2010</td>\n",
       "      <td>Elasmobranchii</td>\n",
       "      <td>Sharks, rays, skates</td>\n",
       "      <td>Industrial</td>\n",
       "      <td>Landings</td>\n",
       "      <td>Unreported</td>\n",
       "      <td>unknown class</td>\n",
       "      <td>0.032026</td>\n",
       "    </tr>\n",
       "    <tr>\n",
       "      <th>2</th>\n",
       "      <td>Algeria</td>\n",
       "      <td>73811</td>\n",
       "      <td>5.25</td>\n",
       "      <td>38.75</td>\n",
       "      <td>2010</td>\n",
       "      <td>Mustelus mustelus</td>\n",
       "      <td>Smooth-hound</td>\n",
       "      <td>Industrial</td>\n",
       "      <td>Landings</td>\n",
       "      <td>Reported</td>\n",
       "      <td>unknown class</td>\n",
       "      <td>0.000050</td>\n",
       "    </tr>\n",
       "    <tr>\n",
       "      <th>3</th>\n",
       "      <td>Algeria</td>\n",
       "      <td>73811</td>\n",
       "      <td>5.25</td>\n",
       "      <td>38.75</td>\n",
       "      <td>2011</td>\n",
       "      <td>Batoidea</td>\n",
       "      <td>Batoids, skates, rays, sawfishes</td>\n",
       "      <td>Industrial</td>\n",
       "      <td>Landings</td>\n",
       "      <td>Unreported</td>\n",
       "      <td>unknown class</td>\n",
       "      <td>0.000004</td>\n",
       "    </tr>\n",
       "    <tr>\n",
       "      <th>4</th>\n",
       "      <td>Algeria</td>\n",
       "      <td>73811</td>\n",
       "      <td>5.25</td>\n",
       "      <td>38.75</td>\n",
       "      <td>2011</td>\n",
       "      <td>Carcharhinidae</td>\n",
       "      <td>Requiem sharks</td>\n",
       "      <td>Industrial</td>\n",
       "      <td>Landings</td>\n",
       "      <td>Unreported</td>\n",
       "      <td>unknown class</td>\n",
       "      <td>0.000034</td>\n",
       "    </tr>\n",
       "    <tr>\n",
       "      <th>...</th>\n",
       "      <td>...</td>\n",
       "      <td>...</td>\n",
       "      <td>...</td>\n",
       "      <td>...</td>\n",
       "      <td>...</td>\n",
       "      <td>...</td>\n",
       "      <td>...</td>\n",
       "      <td>...</td>\n",
       "      <td>...</td>\n",
       "      <td>...</td>\n",
       "      <td>...</td>\n",
       "      <td>...</td>\n",
       "    </tr>\n",
       "    <tr>\n",
       "      <th>31390122</th>\n",
       "      <td>Yemen</td>\n",
       "      <td>135089</td>\n",
       "      <td>44.25</td>\n",
       "      <td>-3.75</td>\n",
       "      <td>2014</td>\n",
       "      <td>Elasmobranchii</td>\n",
       "      <td>Sharks, rays, skates</td>\n",
       "      <td>Industrial</td>\n",
       "      <td>Landings</td>\n",
       "      <td>Unreported</td>\n",
       "      <td>bottom trawl</td>\n",
       "      <td>0.150750</td>\n",
       "    </tr>\n",
       "    <tr>\n",
       "      <th>31390123</th>\n",
       "      <td>Yemen</td>\n",
       "      <td>135089</td>\n",
       "      <td>44.25</td>\n",
       "      <td>-3.75</td>\n",
       "      <td>2015</td>\n",
       "      <td>Elasmobranchii</td>\n",
       "      <td>Sharks, rays, skates</td>\n",
       "      <td>Industrial</td>\n",
       "      <td>Landings</td>\n",
       "      <td>Unreported</td>\n",
       "      <td>bottom trawl</td>\n",
       "      <td>0.150750</td>\n",
       "    </tr>\n",
       "    <tr>\n",
       "      <th>31390124</th>\n",
       "      <td>Yemen</td>\n",
       "      <td>135089</td>\n",
       "      <td>44.25</td>\n",
       "      <td>-3.75</td>\n",
       "      <td>2016</td>\n",
       "      <td>Elasmobranchii</td>\n",
       "      <td>Sharks, rays, skates</td>\n",
       "      <td>Industrial</td>\n",
       "      <td>Landings</td>\n",
       "      <td>Unreported</td>\n",
       "      <td>bottom trawl</td>\n",
       "      <td>0.150750</td>\n",
       "    </tr>\n",
       "    <tr>\n",
       "      <th>31390125</th>\n",
       "      <td>Yemen</td>\n",
       "      <td>135089</td>\n",
       "      <td>44.25</td>\n",
       "      <td>-3.75</td>\n",
       "      <td>2017</td>\n",
       "      <td>Elasmobranchii</td>\n",
       "      <td>Sharks, rays, skates</td>\n",
       "      <td>Industrial</td>\n",
       "      <td>Landings</td>\n",
       "      <td>Unreported</td>\n",
       "      <td>bottom trawl</td>\n",
       "      <td>0.150750</td>\n",
       "    </tr>\n",
       "    <tr>\n",
       "      <th>31390126</th>\n",
       "      <td>Yemen</td>\n",
       "      <td>135089</td>\n",
       "      <td>44.25</td>\n",
       "      <td>-3.75</td>\n",
       "      <td>2018</td>\n",
       "      <td>Elasmobranchii</td>\n",
       "      <td>Sharks, rays, skates</td>\n",
       "      <td>Industrial</td>\n",
       "      <td>Landings</td>\n",
       "      <td>Unreported</td>\n",
       "      <td>bottom trawl</td>\n",
       "      <td>0.150750</td>\n",
       "    </tr>\n",
       "  </tbody>\n",
       "</table>\n",
       "<p>31390127 rows × 12 columns</p>\n",
       "</div>"
      ],
      "text/plain": [
       "         fishing_entity  cell_id    lon    lat  year    scientific_name  \\\n",
       "0               Algeria    73811   5.25  38.75  2010     Carcharhinidae   \n",
       "1               Algeria    73811   5.25  38.75  2010     Elasmobranchii   \n",
       "2               Algeria    73811   5.25  38.75  2010  Mustelus mustelus   \n",
       "3               Algeria    73811   5.25  38.75  2011           Batoidea   \n",
       "4               Algeria    73811   5.25  38.75  2011     Carcharhinidae   \n",
       "...                 ...      ...    ...    ...   ...                ...   \n",
       "31390122          Yemen   135089  44.25  -3.75  2014     Elasmobranchii   \n",
       "31390123          Yemen   135089  44.25  -3.75  2015     Elasmobranchii   \n",
       "31390124          Yemen   135089  44.25  -3.75  2016     Elasmobranchii   \n",
       "31390125          Yemen   135089  44.25  -3.75  2017     Elasmobranchii   \n",
       "31390126          Yemen   135089  44.25  -3.75  2018     Elasmobranchii   \n",
       "\n",
       "                               common_name sector_type catch_type  \\\n",
       "0                           Requiem sharks  Industrial   Landings   \n",
       "1                     Sharks, rays, skates  Industrial   Landings   \n",
       "2                             Smooth-hound  Industrial   Landings   \n",
       "3         Batoids, skates, rays, sawfishes  Industrial   Landings   \n",
       "4                           Requiem sharks  Industrial   Landings   \n",
       "...                                    ...         ...        ...   \n",
       "31390122              Sharks, rays, skates  Industrial   Landings   \n",
       "31390123              Sharks, rays, skates  Industrial   Landings   \n",
       "31390124              Sharks, rays, skates  Industrial   Landings   \n",
       "31390125              Sharks, rays, skates  Industrial   Landings   \n",
       "31390126              Sharks, rays, skates  Industrial   Landings   \n",
       "\n",
       "         reporting_status           gear       sum  \n",
       "0              Unreported  unknown class  0.000035  \n",
       "1              Unreported  unknown class  0.032026  \n",
       "2                Reported  unknown class  0.000050  \n",
       "3              Unreported  unknown class  0.000004  \n",
       "4              Unreported  unknown class  0.000034  \n",
       "...                   ...            ...       ...  \n",
       "31390122       Unreported   bottom trawl  0.150750  \n",
       "31390123       Unreported   bottom trawl  0.150750  \n",
       "31390124       Unreported   bottom trawl  0.150750  \n",
       "31390125       Unreported   bottom trawl  0.150750  \n",
       "31390126       Unreported   bottom trawl  0.150750  \n",
       "\n",
       "[31390127 rows x 12 columns]"
      ]
     },
     "execution_count": 3,
     "metadata": {},
     "output_type": "execute_result"
    }
   ],
   "source": [
    "t0 = datetime.now()\n",
    "# --------------------- Load big dataset --------------------- #\n",
    "file = \"data/spatial catches of elasmobranchii in 2010-2018.csv\"\n",
    "df = pd.read_csv(file)\n",
    "# ------------------------------------------------------------ #\n",
    "t1 = datetime.now()\n",
    "print(f\"Time taken to load file: {(t1-t0).seconds}s, {(t1-t0).microseconds}ms\")\n",
    "show_memory_alloc(df)\n",
    "df"
   ]
  },
  {
   "cell_type": "markdown",
   "id": "eb71520d",
   "metadata": {},
   "source": [
    "### 0.2 Bycatch fate data"
   ]
  },
  {
   "cell_type": "code",
   "execution_count": 4,
   "id": "10e4dcfa",
   "metadata": {},
   "outputs": [],
   "source": [
    "# Fate after bycatch data\n",
    "fate = pd.read_excel(\"data/bycatch_fate.xlsx\")\n",
    "fate.rfmo.fillna(\"Non-RFMO\", inplace=True)\n",
    "fate.family.fillna(\"Sharks-nei\", inplace=True)\n",
    "fate.fate_type.replace(\n",
    "    \"finned (fins kept, carcass discarded)\", \"discard_dead\",\n",
    "    inplace=True\n",
    ")"
   ]
  },
  {
   "cell_type": "code",
   "execution_count": 5,
   "id": "8289b85f",
   "metadata": {},
   "outputs": [],
   "source": [
    "# Split the rows with discard_unknown randomly nto two equal groups\n",
    "dead, alive = train_test_split(fate[fate.fate_type == \"discard_unknown\"], test_size=0.5)\n",
    "\n",
    "# Assign them values from acceptable categories\n",
    "fate.loc[dead.index, \"fate_type\"] = \"discard_dead\"\n",
    "fate.loc[alive.index, \"fate_type\"] = \"discard_alive\""
   ]
  },
  {
   "cell_type": "markdown",
   "id": "7bf41c6d",
   "metadata": {},
   "source": [
    "### 0.3 Post-release mortality, taxa, gear data and list of true shark species"
   ]
  },
  {
   "cell_type": "code",
   "execution_count": 6,
   "id": "5a9fa4ca",
   "metadata": {},
   "outputs": [],
   "source": [
    "# Post release mortality data\n",
    "mortality = pd.read_excel(\"data/post_release_mortality.xlsx\")\n",
    "mortality.family.fillna(\"unknown\", inplace=True)\n",
    "\n",
    "# Taxonomy data\n",
    "taxa = pd.read_csv(\"data/sau_spp_taxonomy_ref.csv\")\n",
    "\n",
    "# Gear data\n",
    "gear = pd.read_excel(\"data/Gear_groups_SAUP.xlsx\")\n",
    "\n",
    "# List of true shark species\n",
    "shark_species_data = pd.read_excel(\"data/List of true shark species_SAUP_2010-2018.xlsx\", index_col=0)\n",
    "shark_species_data.columns = [col.lower() for col in shark_species_data.columns]\n",
    "shark_list = shark_species_data.common_name"
   ]
  },
  {
   "cell_type": "markdown",
   "id": "184daa4e",
   "metadata": {},
   "source": [
    "## 1. EDA of Mortality Dataset"
   ]
  },
  {
   "cell_type": "code",
   "execution_count": 7,
   "id": "721c667c",
   "metadata": {},
   "outputs": [
    {
     "data": {
      "text/html": [
       "<div>\n",
       "<style scoped>\n",
       "    .dataframe tbody tr th:only-of-type {\n",
       "        vertical-align: middle;\n",
       "    }\n",
       "\n",
       "    .dataframe tbody tr th {\n",
       "        vertical-align: top;\n",
       "    }\n",
       "\n",
       "    .dataframe thead th {\n",
       "        text-align: right;\n",
       "    }\n",
       "</style>\n",
       "<table border=\"1\" class=\"dataframe\">\n",
       "  <thead>\n",
       "    <tr style=\"text-align: right;\">\n",
       "      <th></th>\n",
       "      <th></th>\n",
       "      <th>estimate_type</th>\n",
       "      <th>at-vessel mortality</th>\n",
       "      <th>post-release mortality</th>\n",
       "    </tr>\n",
       "    <tr>\n",
       "      <th>ocean</th>\n",
       "      <th>gear_class</th>\n",
       "      <th>family</th>\n",
       "      <th></th>\n",
       "      <th></th>\n",
       "    </tr>\n",
       "  </thead>\n",
       "  <tbody>\n",
       "    <tr>\n",
       "      <th rowspan=\"5\" valign=\"top\">Atlantic</th>\n",
       "      <th rowspan=\"4\" valign=\"top\">gillnet</th>\n",
       "      <th>Carcharhinidae</th>\n",
       "      <td>1921.0</td>\n",
       "      <td>2898.0</td>\n",
       "    </tr>\n",
       "    <tr>\n",
       "      <th>Rajidae</th>\n",
       "      <td>975.0</td>\n",
       "      <td>NaN</td>\n",
       "    </tr>\n",
       "    <tr>\n",
       "      <th>Sphyrnidae</th>\n",
       "      <td>188.0</td>\n",
       "      <td>4352.0</td>\n",
       "    </tr>\n",
       "    <tr>\n",
       "      <th>Squalidae</th>\n",
       "      <td>2284.0</td>\n",
       "      <td>480.0</td>\n",
       "    </tr>\n",
       "    <tr>\n",
       "      <th>handline</th>\n",
       "      <th>Carcharhinidae</th>\n",
       "      <td>32.0</td>\n",
       "      <td>193.0</td>\n",
       "    </tr>\n",
       "    <tr>\n",
       "      <th>...</th>\n",
       "      <th>...</th>\n",
       "      <th>...</th>\n",
       "      <td>...</td>\n",
       "      <td>...</td>\n",
       "    </tr>\n",
       "    <tr>\n",
       "      <th rowspan=\"5\" valign=\"top\">Southern</th>\n",
       "      <th rowspan=\"4\" valign=\"top\">longline</th>\n",
       "      <th>Rhinidae</th>\n",
       "      <td>8.0</td>\n",
       "      <td>NaN</td>\n",
       "    </tr>\n",
       "    <tr>\n",
       "      <th>Rhinobatidae</th>\n",
       "      <td>2.0</td>\n",
       "      <td>NaN</td>\n",
       "    </tr>\n",
       "    <tr>\n",
       "      <th>Sphyrnidae</th>\n",
       "      <td>65.0</td>\n",
       "      <td>NaN</td>\n",
       "    </tr>\n",
       "    <tr>\n",
       "      <th>Triakidae</th>\n",
       "      <td>22.0</td>\n",
       "      <td>117.0</td>\n",
       "    </tr>\n",
       "    <tr>\n",
       "      <th>trawl</th>\n",
       "      <th>Triakidae</th>\n",
       "      <td>24.0</td>\n",
       "      <td>41.0</td>\n",
       "    </tr>\n",
       "  </tbody>\n",
       "</table>\n",
       "<p>77 rows × 2 columns</p>\n",
       "</div>"
      ],
      "text/plain": [
       "estimate_type                       at-vessel mortality  \\\n",
       "ocean    gear_class family                                \n",
       "Atlantic gillnet    Carcharhinidae               1921.0   \n",
       "                    Rajidae                       975.0   \n",
       "                    Sphyrnidae                    188.0   \n",
       "                    Squalidae                    2284.0   \n",
       "         handline   Carcharhinidae                 32.0   \n",
       "...                                                 ...   \n",
       "Southern longline   Rhinidae                        8.0   \n",
       "                    Rhinobatidae                    2.0   \n",
       "                    Sphyrnidae                     65.0   \n",
       "                    Triakidae                      22.0   \n",
       "         trawl      Triakidae                      24.0   \n",
       "\n",
       "estimate_type                       post-release mortality  \n",
       "ocean    gear_class family                                  \n",
       "Atlantic gillnet    Carcharhinidae                  2898.0  \n",
       "                    Rajidae                            NaN  \n",
       "                    Sphyrnidae                      4352.0  \n",
       "                    Squalidae                        480.0  \n",
       "         handline   Carcharhinidae                   193.0  \n",
       "...                                                    ...  \n",
       "Southern longline   Rhinidae                           NaN  \n",
       "                    Rhinobatidae                       NaN  \n",
       "                    Sphyrnidae                         NaN  \n",
       "                    Triakidae                        117.0  \n",
       "         trawl      Triakidae                         41.0  \n",
       "\n",
       "[77 rows x 2 columns]"
      ]
     },
     "metadata": {},
     "output_type": "display_data"
    }
   ],
   "source": [
    "pt = mortality.pivot_table(\n",
    "    index=[\"ocean\", \"gear_class\", \"family\"],\n",
    "    columns=\"estimate_type\",\n",
    "    values=\"sample_size\",\n",
    "    aggfunc=np.sum,\n",
    ").drop(\"post-release survival\", axis=\"columns\")\n",
    "display(pt)\n",
    "pt.to_excel(\"outputs/mortality-by-gear-by-family.xlsx\")"
   ]
  },
  {
   "cell_type": "markdown",
   "id": "018fae14",
   "metadata": {},
   "source": [
    "### 1.1 BY family"
   ]
  },
  {
   "cell_type": "code",
   "execution_count": 8,
   "id": "f018863b",
   "metadata": {},
   "outputs": [
    {
     "data": {
      "text/html": [
       "<div>\n",
       "<style scoped>\n",
       "    .dataframe tbody tr th:only-of-type {\n",
       "        vertical-align: middle;\n",
       "    }\n",
       "\n",
       "    .dataframe tbody tr th {\n",
       "        vertical-align: top;\n",
       "    }\n",
       "\n",
       "    .dataframe thead th {\n",
       "        text-align: right;\n",
       "    }\n",
       "</style>\n",
       "<table border=\"1\" class=\"dataframe\">\n",
       "  <thead>\n",
       "    <tr style=\"text-align: right;\">\n",
       "      <th></th>\n",
       "      <th>estimate_type</th>\n",
       "      <th>at-vessel mortality</th>\n",
       "      <th>post-release mortality</th>\n",
       "    </tr>\n",
       "    <tr>\n",
       "      <th>ocean</th>\n",
       "      <th>family</th>\n",
       "      <th></th>\n",
       "      <th></th>\n",
       "    </tr>\n",
       "  </thead>\n",
       "  <tbody>\n",
       "    <tr>\n",
       "      <th rowspan=\"17\" valign=\"top\">Atlantic</th>\n",
       "      <th>Alopiidae</th>\n",
       "      <td>2328.0</td>\n",
       "      <td>NaN</td>\n",
       "    </tr>\n",
       "    <tr>\n",
       "      <th>Carcharhinidae</th>\n",
       "      <td>175039.0</td>\n",
       "      <td>3739.0</td>\n",
       "    </tr>\n",
       "    <tr>\n",
       "      <th>Centrophoridae</th>\n",
       "      <td>439.0</td>\n",
       "      <td>22.0</td>\n",
       "    </tr>\n",
       "    <tr>\n",
       "      <th>Dasyatidae</th>\n",
       "      <td>396.0</td>\n",
       "      <td>NaN</td>\n",
       "    </tr>\n",
       "    <tr>\n",
       "      <th>Ginglymostomatidae</th>\n",
       "      <td>1629.0</td>\n",
       "      <td>33.0</td>\n",
       "    </tr>\n",
       "    <tr>\n",
       "      <th>Hexanchidae</th>\n",
       "      <td>22.0</td>\n",
       "      <td>NaN</td>\n",
       "    </tr>\n",
       "    <tr>\n",
       "      <th>Lamnidae</th>\n",
       "      <td>7056.0</td>\n",
       "      <td>171.0</td>\n",
       "    </tr>\n",
       "    <tr>\n",
       "      <th>Orectolobidae</th>\n",
       "      <td>213.0</td>\n",
       "      <td>NaN</td>\n",
       "    </tr>\n",
       "    <tr>\n",
       "      <th>Pseudocarchariidae</th>\n",
       "      <td>1621.0</td>\n",
       "      <td>NaN</td>\n",
       "    </tr>\n",
       "    <tr>\n",
       "      <th>Rajidae</th>\n",
       "      <td>5664.0</td>\n",
       "      <td>462.0</td>\n",
       "    </tr>\n",
       "    <tr>\n",
       "      <th>Rhincodontidae</th>\n",
       "      <td>107.0</td>\n",
       "      <td>NaN</td>\n",
       "    </tr>\n",
       "    <tr>\n",
       "      <th>Scyliorhinidae</th>\n",
       "      <td>24.0</td>\n",
       "      <td>NaN</td>\n",
       "    </tr>\n",
       "    <tr>\n",
       "      <th>Somniosidae</th>\n",
       "      <td>49.0</td>\n",
       "      <td>NaN</td>\n",
       "    </tr>\n",
       "    <tr>\n",
       "      <th>Sphyrnidae</th>\n",
       "      <td>3903.0</td>\n",
       "      <td>4352.0</td>\n",
       "    </tr>\n",
       "    <tr>\n",
       "      <th>Squalidae</th>\n",
       "      <td>2462.0</td>\n",
       "      <td>552.0</td>\n",
       "    </tr>\n",
       "    <tr>\n",
       "      <th>Triakidae</th>\n",
       "      <td>2062.0</td>\n",
       "      <td>49.0</td>\n",
       "    </tr>\n",
       "    <tr>\n",
       "      <th>unknown</th>\n",
       "      <td>113.0</td>\n",
       "      <td>NaN</td>\n",
       "    </tr>\n",
       "    <tr>\n",
       "      <th rowspan=\"14\" valign=\"top\">Indian</th>\n",
       "      <th>Aetobatidae</th>\n",
       "      <td>3.0</td>\n",
       "      <td>NaN</td>\n",
       "    </tr>\n",
       "    <tr>\n",
       "      <th>Carcharhinidae</th>\n",
       "      <td>121.0</td>\n",
       "      <td>27.0</td>\n",
       "    </tr>\n",
       "    <tr>\n",
       "      <th>Dasyatidae</th>\n",
       "      <td>107.0</td>\n",
       "      <td>NaN</td>\n",
       "    </tr>\n",
       "    <tr>\n",
       "      <th>Gymnuridae</th>\n",
       "      <td>84.0</td>\n",
       "      <td>NaN</td>\n",
       "    </tr>\n",
       "    <tr>\n",
       "      <th>Hemigaleidae</th>\n",
       "      <td>2.0</td>\n",
       "      <td>NaN</td>\n",
       "    </tr>\n",
       "    <tr>\n",
       "      <th>Myliobatidae</th>\n",
       "      <td>8.0</td>\n",
       "      <td>NaN</td>\n",
       "    </tr>\n",
       "    <tr>\n",
       "      <th>Rhincodontidae</th>\n",
       "      <td>38.0</td>\n",
       "      <td>NaN</td>\n",
       "    </tr>\n",
       "    <tr>\n",
       "      <th>Rhinidae</th>\n",
       "      <td>15.0</td>\n",
       "      <td>NaN</td>\n",
       "    </tr>\n",
       "    <tr>\n",
       "      <th>Rhinobatidae</th>\n",
       "      <td>28.0</td>\n",
       "      <td>NaN</td>\n",
       "    </tr>\n",
       "    <tr>\n",
       "      <th>Scyliorhinidae</th>\n",
       "      <td>47.0</td>\n",
       "      <td>NaN</td>\n",
       "    </tr>\n",
       "    <tr>\n",
       "      <th>Sphyrnidae</th>\n",
       "      <td>169.0</td>\n",
       "      <td>NaN</td>\n",
       "    </tr>\n",
       "    <tr>\n",
       "      <th>Squatinidae</th>\n",
       "      <td>10.0</td>\n",
       "      <td>NaN</td>\n",
       "    </tr>\n",
       "    <tr>\n",
       "      <th>Torpedinidae</th>\n",
       "      <td>5.0</td>\n",
       "      <td>NaN</td>\n",
       "    </tr>\n",
       "    <tr>\n",
       "      <th>Triakidae</th>\n",
       "      <td>14.0</td>\n",
       "      <td>NaN</td>\n",
       "    </tr>\n",
       "    <tr>\n",
       "      <th rowspan=\"16\" valign=\"top\">Pacific</th>\n",
       "      <th>Alopiidae</th>\n",
       "      <td>3076.0</td>\n",
       "      <td>95.0</td>\n",
       "    </tr>\n",
       "    <tr>\n",
       "      <th>Carcharhinidae</th>\n",
       "      <td>16884.0</td>\n",
       "      <td>347.0</td>\n",
       "    </tr>\n",
       "    <tr>\n",
       "      <th>Dasyatidae</th>\n",
       "      <td>613.0</td>\n",
       "      <td>NaN</td>\n",
       "    </tr>\n",
       "    <tr>\n",
       "      <th>Heterodontidae</th>\n",
       "      <td>1452.0</td>\n",
       "      <td>NaN</td>\n",
       "    </tr>\n",
       "    <tr>\n",
       "      <th>Hexanchidae</th>\n",
       "      <td>202.0</td>\n",
       "      <td>NaN</td>\n",
       "    </tr>\n",
       "    <tr>\n",
       "      <th>Lamnidae</th>\n",
       "      <td>2927.0</td>\n",
       "      <td>188.0</td>\n",
       "    </tr>\n",
       "    <tr>\n",
       "      <th>Mobulidae</th>\n",
       "      <td>NaN</td>\n",
       "      <td>7.0</td>\n",
       "    </tr>\n",
       "    <tr>\n",
       "      <th>Myliobatidae</th>\n",
       "      <td>133.0</td>\n",
       "      <td>NaN</td>\n",
       "    </tr>\n",
       "    <tr>\n",
       "      <th>Parascyllidae</th>\n",
       "      <td>24.0</td>\n",
       "      <td>NaN</td>\n",
       "    </tr>\n",
       "    <tr>\n",
       "      <th>Pristiophoridae</th>\n",
       "      <td>675.0</td>\n",
       "      <td>NaN</td>\n",
       "    </tr>\n",
       "    <tr>\n",
       "      <th>Pseudocarchariidae</th>\n",
       "      <td>139.0</td>\n",
       "      <td>NaN</td>\n",
       "    </tr>\n",
       "    <tr>\n",
       "      <th>Scyliorhinidae</th>\n",
       "      <td>1977.0</td>\n",
       "      <td>NaN</td>\n",
       "    </tr>\n",
       "    <tr>\n",
       "      <th>Sphyrnidae</th>\n",
       "      <td>254.0</td>\n",
       "      <td>3.0</td>\n",
       "    </tr>\n",
       "    <tr>\n",
       "      <th>Squalidae</th>\n",
       "      <td>1230.0</td>\n",
       "      <td>NaN</td>\n",
       "    </tr>\n",
       "    <tr>\n",
       "      <th>Squatinidae</th>\n",
       "      <td>56.0</td>\n",
       "      <td>NaN</td>\n",
       "    </tr>\n",
       "    <tr>\n",
       "      <th>Triakidae</th>\n",
       "      <td>5310.0</td>\n",
       "      <td>NaN</td>\n",
       "    </tr>\n",
       "    <tr>\n",
       "      <th rowspan=\"8\" valign=\"top\">Southern</th>\n",
       "      <th>Carcharhinidae</th>\n",
       "      <td>527.0</td>\n",
       "      <td>NaN</td>\n",
       "    </tr>\n",
       "    <tr>\n",
       "      <th>Dasyatidae</th>\n",
       "      <td>18.0</td>\n",
       "      <td>NaN</td>\n",
       "    </tr>\n",
       "    <tr>\n",
       "      <th>Lamnidae</th>\n",
       "      <td>12.0</td>\n",
       "      <td>NaN</td>\n",
       "    </tr>\n",
       "    <tr>\n",
       "      <th>Orectolobidae</th>\n",
       "      <td>18.0</td>\n",
       "      <td>NaN</td>\n",
       "    </tr>\n",
       "    <tr>\n",
       "      <th>Rhinidae</th>\n",
       "      <td>8.0</td>\n",
       "      <td>NaN</td>\n",
       "    </tr>\n",
       "    <tr>\n",
       "      <th>Rhinobatidae</th>\n",
       "      <td>2.0</td>\n",
       "      <td>NaN</td>\n",
       "    </tr>\n",
       "    <tr>\n",
       "      <th>Sphyrnidae</th>\n",
       "      <td>65.0</td>\n",
       "      <td>NaN</td>\n",
       "    </tr>\n",
       "    <tr>\n",
       "      <th>Triakidae</th>\n",
       "      <td>46.0</td>\n",
       "      <td>188.0</td>\n",
       "    </tr>\n",
       "  </tbody>\n",
       "</table>\n",
       "</div>"
      ],
      "text/plain": [
       "estimate_type                at-vessel mortality  post-release mortality\n",
       "ocean    family                                                         \n",
       "Atlantic Alopiidae                        2328.0                     NaN\n",
       "         Carcharhinidae                 175039.0                  3739.0\n",
       "         Centrophoridae                    439.0                    22.0\n",
       "         Dasyatidae                        396.0                     NaN\n",
       "         Ginglymostomatidae               1629.0                    33.0\n",
       "         Hexanchidae                        22.0                     NaN\n",
       "         Lamnidae                         7056.0                   171.0\n",
       "         Orectolobidae                     213.0                     NaN\n",
       "         Pseudocarchariidae               1621.0                     NaN\n",
       "         Rajidae                          5664.0                   462.0\n",
       "         Rhincodontidae                    107.0                     NaN\n",
       "         Scyliorhinidae                     24.0                     NaN\n",
       "         Somniosidae                        49.0                     NaN\n",
       "         Sphyrnidae                       3903.0                  4352.0\n",
       "         Squalidae                        2462.0                   552.0\n",
       "         Triakidae                        2062.0                    49.0\n",
       "         unknown                           113.0                     NaN\n",
       "Indian   Aetobatidae                         3.0                     NaN\n",
       "         Carcharhinidae                    121.0                    27.0\n",
       "         Dasyatidae                        107.0                     NaN\n",
       "         Gymnuridae                         84.0                     NaN\n",
       "         Hemigaleidae                        2.0                     NaN\n",
       "         Myliobatidae                        8.0                     NaN\n",
       "         Rhincodontidae                     38.0                     NaN\n",
       "         Rhinidae                           15.0                     NaN\n",
       "         Rhinobatidae                       28.0                     NaN\n",
       "         Scyliorhinidae                     47.0                     NaN\n",
       "         Sphyrnidae                        169.0                     NaN\n",
       "         Squatinidae                        10.0                     NaN\n",
       "         Torpedinidae                        5.0                     NaN\n",
       "         Triakidae                          14.0                     NaN\n",
       "Pacific  Alopiidae                        3076.0                    95.0\n",
       "         Carcharhinidae                  16884.0                   347.0\n",
       "         Dasyatidae                        613.0                     NaN\n",
       "         Heterodontidae                   1452.0                     NaN\n",
       "         Hexanchidae                       202.0                     NaN\n",
       "         Lamnidae                         2927.0                   188.0\n",
       "         Mobulidae                           NaN                     7.0\n",
       "         Myliobatidae                      133.0                     NaN\n",
       "         Parascyllidae                      24.0                     NaN\n",
       "         Pristiophoridae                   675.0                     NaN\n",
       "         Pseudocarchariidae                139.0                     NaN\n",
       "         Scyliorhinidae                   1977.0                     NaN\n",
       "         Sphyrnidae                        254.0                     3.0\n",
       "         Squalidae                        1230.0                     NaN\n",
       "         Squatinidae                        56.0                     NaN\n",
       "         Triakidae                        5310.0                     NaN\n",
       "Southern Carcharhinidae                    527.0                     NaN\n",
       "         Dasyatidae                         18.0                     NaN\n",
       "         Lamnidae                           12.0                     NaN\n",
       "         Orectolobidae                      18.0                     NaN\n",
       "         Rhinidae                            8.0                     NaN\n",
       "         Rhinobatidae                        2.0                     NaN\n",
       "         Sphyrnidae                         65.0                     NaN\n",
       "         Triakidae                          46.0                   188.0"
      ]
     },
     "metadata": {},
     "output_type": "display_data"
    }
   ],
   "source": [
    "mortalities_only = mortality[mortality.estimate_type != \"post-release survival\"]\n",
    "pt = mortalities_only.pivot_table(\n",
    "    index=[\"ocean\", \"family\"],\n",
    "    columns=\"estimate_type\",\n",
    "    values=\"sample_size\",\n",
    "    aggfunc=np.sum,\n",
    ")\n",
    "display(pt)\n",
    "pt.to_excel(\"outputs/mortality-by-family.xlsx\")"
   ]
  },
  {
   "cell_type": "code",
   "execution_count": 9,
   "id": "9c749440",
   "metadata": {
    "scrolled": false
   },
   "outputs": [
    {
     "data": {
      "image/png": "[encoded data removed]",
      "text/plain": [
       "<Figure size 864x864 with 4 Axes>"
      ]
     },
     "metadata": {},
     "output_type": "display_data"
    }
   ],
   "source": [
    "fig, axes = plt.subplots(nrows=2, ncols=2, figsize=(12, 12))\n",
    "for ocean, axe in zip(pt.index.levels[0], axes.flatten()):\n",
    "    axe = pt.loc[ocean].plot(kind=\"bar\", stacked=True, ax=axe)\n",
    "    axe.set_title(ocean, fontsize=15)\n",
    "    axe.set_yscale(\"log\")\n",
    "    axe.set_ylabel(\"mortality estimate (log)\")\n",
    "    axe.set_ylabel(\"\")\n",
    "plt.tight_layout()\n",
    "\n",
    "plt.savefig(\"outputs/mortality-estimates-by-family.jpg\", dpi=300)"
   ]
  },
  {
   "cell_type": "markdown",
   "id": "06c4846f",
   "metadata": {},
   "source": [
    "### 1.2 BY Gear"
   ]
  },
  {
   "cell_type": "code",
   "execution_count": 10,
   "id": "b4d431a5",
   "metadata": {},
   "outputs": [
    {
     "data": {
      "text/html": [
       "<div>\n",
       "<style scoped>\n",
       "    .dataframe tbody tr th:only-of-type {\n",
       "        vertical-align: middle;\n",
       "    }\n",
       "\n",
       "    .dataframe tbody tr th {\n",
       "        vertical-align: top;\n",
       "    }\n",
       "\n",
       "    .dataframe thead th {\n",
       "        text-align: right;\n",
       "    }\n",
       "</style>\n",
       "<table border=\"1\" class=\"dataframe\">\n",
       "  <thead>\n",
       "    <tr style=\"text-align: right;\">\n",
       "      <th></th>\n",
       "      <th>estimate_type</th>\n",
       "      <th>at-vessel mortality</th>\n",
       "      <th>post-release mortality</th>\n",
       "    </tr>\n",
       "    <tr>\n",
       "      <th>ocean</th>\n",
       "      <th>gear_class</th>\n",
       "      <th></th>\n",
       "      <th></th>\n",
       "    </tr>\n",
       "  </thead>\n",
       "  <tbody>\n",
       "    <tr>\n",
       "      <th rowspan=\"5\" valign=\"top\">Atlantic</th>\n",
       "      <th>gillnet</th>\n",
       "      <td>5368.0</td>\n",
       "      <td>7730.0</td>\n",
       "    </tr>\n",
       "    <tr>\n",
       "      <th>handline</th>\n",
       "      <td>32.0</td>\n",
       "      <td>261.0</td>\n",
       "    </tr>\n",
       "    <tr>\n",
       "      <th>longline</th>\n",
       "      <td>193798.0</td>\n",
       "      <td>927.0</td>\n",
       "    </tr>\n",
       "    <tr>\n",
       "      <th>purse seine</th>\n",
       "      <td>107.0</td>\n",
       "      <td>NaN</td>\n",
       "    </tr>\n",
       "    <tr>\n",
       "      <th>trawl</th>\n",
       "      <td>3822.0</td>\n",
       "      <td>462.0</td>\n",
       "    </tr>\n",
       "    <tr>\n",
       "      <th rowspan=\"3\" valign=\"top\">Indian</th>\n",
       "      <th>gillnet</th>\n",
       "      <td>64.0</td>\n",
       "      <td>NaN</td>\n",
       "    </tr>\n",
       "    <tr>\n",
       "      <th>purse seine</th>\n",
       "      <td>38.0</td>\n",
       "      <td>27.0</td>\n",
       "    </tr>\n",
       "    <tr>\n",
       "      <th>trawl</th>\n",
       "      <td>549.0</td>\n",
       "      <td>NaN</td>\n",
       "    </tr>\n",
       "    <tr>\n",
       "      <th rowspan=\"4\" valign=\"top\">Pacific</th>\n",
       "      <th>gillnet</th>\n",
       "      <td>11532.0</td>\n",
       "      <td>28.0</td>\n",
       "    </tr>\n",
       "    <tr>\n",
       "      <th>longline</th>\n",
       "      <td>23420.0</td>\n",
       "      <td>529.0</td>\n",
       "    </tr>\n",
       "    <tr>\n",
       "      <th>pole and line</th>\n",
       "      <td>NaN</td>\n",
       "      <td>37.0</td>\n",
       "    </tr>\n",
       "    <tr>\n",
       "      <th>purse seine</th>\n",
       "      <td>NaN</td>\n",
       "      <td>46.0</td>\n",
       "    </tr>\n",
       "    <tr>\n",
       "      <th rowspan=\"3\" valign=\"top\">Southern</th>\n",
       "      <th>gillnet</th>\n",
       "      <td>NaN</td>\n",
       "      <td>30.0</td>\n",
       "    </tr>\n",
       "    <tr>\n",
       "      <th>longline</th>\n",
       "      <td>672.0</td>\n",
       "      <td>117.0</td>\n",
       "    </tr>\n",
       "    <tr>\n",
       "      <th>trawl</th>\n",
       "      <td>24.0</td>\n",
       "      <td>41.0</td>\n",
       "    </tr>\n",
       "  </tbody>\n",
       "</table>\n",
       "</div>"
      ],
      "text/plain": [
       "estimate_type           at-vessel mortality  post-release mortality\n",
       "ocean    gear_class                                                \n",
       "Atlantic gillnet                     5368.0                  7730.0\n",
       "         handline                      32.0                   261.0\n",
       "         longline                  193798.0                   927.0\n",
       "         purse seine                  107.0                     NaN\n",
       "         trawl                       3822.0                   462.0\n",
       "Indian   gillnet                       64.0                     NaN\n",
       "         purse seine                   38.0                    27.0\n",
       "         trawl                        549.0                     NaN\n",
       "Pacific  gillnet                    11532.0                    28.0\n",
       "         longline                   23420.0                   529.0\n",
       "         pole and line                  NaN                    37.0\n",
       "         purse seine                    NaN                    46.0\n",
       "Southern gillnet                        NaN                    30.0\n",
       "         longline                     672.0                   117.0\n",
       "         trawl                         24.0                    41.0"
      ]
     },
     "metadata": {},
     "output_type": "display_data"
    }
   ],
   "source": [
    "pt = mortality.pivot_table(\n",
    "    index=[\"ocean\", \"gear_class\"],\n",
    "    columns=\"estimate_type\",\n",
    "    values=\"sample_size\",\n",
    "    aggfunc=np.sum,\n",
    ").drop(\"post-release survival\", axis=\"columns\")\n",
    "display(pt)\n",
    "pt.to_excel(\"outputs/mortality-by-family.xlsx\")"
   ]
  },
  {
   "cell_type": "code",
   "execution_count": null,
   "id": "3ed446c9",
   "metadata": {},
   "outputs": [],
   "source": []
  },
  {
   "cell_type": "code",
   "execution_count": null,
   "id": "14ccf0d7",
   "metadata": {},
   "outputs": [],
   "source": []
  },
  {
   "cell_type": "code",
   "execution_count": null,
   "id": "2564ad2f",
   "metadata": {},
   "outputs": [],
   "source": []
  },
  {
   "cell_type": "markdown",
   "id": "9a109997",
   "metadata": {},
   "source": [
    "## 3. Mortality estimate"
   ]
  },
  {
   "cell_type": "markdown",
   "id": "7fe148ef",
   "metadata": {},
   "source": [
    "### 3.1 Prepare data\n",
    "We need to merge some data from the taxa and gear datasets."
   ]
  },
  {
   "cell_type": "markdown",
   "id": "f027e134",
   "metadata": {},
   "source": [
    "#### 3.1.1 Keep only shark data"
   ]
  },
  {
   "cell_type": "code",
   "execution_count": 11,
   "id": "5f7e4854",
   "metadata": {},
   "outputs": [],
   "source": [
    "df = df[df[\"common_name\"].isin(shark_list)]"
   ]
  },
  {
   "cell_type": "markdown",
   "id": "56aa68c2",
   "metadata": {},
   "source": [
    "#### 3.1.2 Merge with gear and taxa data"
   ]
  },
  {
   "cell_type": "code",
   "execution_count": 12,
   "id": "359ffe50",
   "metadata": {},
   "outputs": [
    {
     "name": "stdout",
     "output_type": "stream",
     "text": [
      "Validation successfull! Row lengths preserved.\n"
     ]
    }
   ],
   "source": [
    "orig_shape = df.shape\n",
    "\n",
    "# Merge with taxa data\n",
    "df = df.merge(\n",
    "    taxa[[\"common_name\", \"family_name\", \"order_name\", \"genus\"]],\n",
    "    on=\"common_name\", how=\"left\"\n",
    ")\n",
    "if orig_shape[0] == df.shape[0]:\n",
    "    print(\"Validation successfull! Row lengths preserved.\")\n",
    "else:\n",
    "    print(f\"Validation failed! new shape: {df.shape}, old shape: {orig_shape}\")"
   ]
  },
  {
   "cell_type": "code",
   "execution_count": 13,
   "id": "8b80dd54",
   "metadata": {},
   "outputs": [
    {
     "name": "stdout",
     "output_type": "stream",
     "text": [
      "Validation successfull! Row lengths preserved.\n"
     ]
    }
   ],
   "source": [
    "# Merge with gear data\n",
    "df = df.merge(\n",
    "    gear, on=\"gear\", how=\"left\"\n",
    ")\n",
    "if orig_shape[0] == df.shape[0]:\n",
    "    print(\"Validation successfull! Row lengths preserved.\")\n",
    "else:\n",
    "    print(f\"Validation failed! new shape: {df.shape}, old shape: {orig_shape}\")"
   ]
  },
  {
   "cell_type": "markdown",
   "id": "632c1e08",
   "metadata": {},
   "source": [
    "#### 3.1.3 Seperate coastal and offshore species"
   ]
  },
  {
   "cell_type": "code",
   "execution_count": 14,
   "id": "1325a674",
   "metadata": {},
   "outputs": [
    {
     "name": "stdout",
     "output_type": "stream",
     "text": [
      "Validation successfull!\n"
     ]
    }
   ],
   "source": [
    "# Offshore species are those that are caught in LL or PS\n",
    "offshore = df[df.gear_group.isin([\"longline\", \"purse seine\"])]\n",
    "\n",
    "# Coastal species are those that are not caught in LL or PS\n",
    "coastal = df[~df.gear_group.isin([\"longline\", \"purse seine\"])]\n",
    "\n",
    "print(\"Validation successfull!\") if (len(offshore)+len(coastal)==len(df)) else 0"
   ]
  },
  {
   "cell_type": "markdown",
   "id": "328aee37",
   "metadata": {},
   "source": [
    "### 3.2 Mortality calculation\n",
    "$$ mortality = sum(n_{catch} * p_{fate} * m_{fate}) $$\n",
    "\n",
    "Sum of the mortalities for three different fates:\n",
    "1. Mortality of sharks discarded alive\n",
    "2. Mortality of sharks discarded dead\n",
    "3. Mortality of sharks retained"
   ]
  },
  {
   "cell_type": "code",
   "execution_count": 15,
   "id": "7e78cfd1",
   "metadata": {},
   "outputs": [],
   "source": [
    "fates = [\"discard_alive\", \"discard_dead\", \"retained\"]\n",
    "\n",
    "median_weight = {\n",
    "    \"coastal\": 20.75,\n",
    "    \"offshore\": 36,\n",
    "}\n",
    "\n",
    "non_shark_families = [\n",
    "    \"Dasyatidae\",\n",
    "    \"Mobulidae\",\n",
    "    \"Myliobatidae\",\n",
    "    \"Rajidae\",\n",
    "    \"Torpedinidae\",\n",
    "]\n",
    "\n",
    "non_shark_families2 = [\n",
    "    \"Aetobatidae\",\n",
    "    \"Dasyatidae\",\n",
    "    \"Gymnuridae\",\n",
    "    \"Mobulidae\",\n",
    "    \"Myliobatidae\"\n",
    "    \"Rajidae\",\n",
    "    \"Rhinidae\",\n",
    "    \"Rhinobatidae\",\n",
    "    \"Torpedinidae\"\n",
    "]"
   ]
  },
  {
   "cell_type": "markdown",
   "id": "24d29bb3",
   "metadata": {},
   "source": [
    "#### 3.2.1 Coastal Species\n",
    "- Median weight = 20.75 kgs\n",
    "- NON-RFMO\n",
    "- Sharks only"
   ]
  },
  {
   "cell_type": "markdown",
   "id": "c1a9ec71",
   "metadata": {},
   "source": [
    "##### 3.2.1.1 Mortality of sharks discarded alive"
   ]
  },
  {
   "cell_type": "code",
   "execution_count": 16,
   "id": "9d6df25d",
   "metadata": {},
   "outputs": [
    {
     "name": "stdout",
     "output_type": "stream",
     "text": [
      "978150947.5728785\n"
     ]
    },
    {
     "data": {
      "text/plain": [
       "47139804"
      ]
     },
     "execution_count": 16,
     "metadata": {},
     "output_type": "execute_result"
    }
   ],
   "source": [
    "avg_weight = 20.75\n",
    "total_catch = coastal[coastal.catch_type == \"Discards\"][\"sum\"].sum()\n",
    "print(total_catch*1000)\n",
    "n_catch = int(total_catch*1000/avg_weight)\n",
    "n_catch"
   ]
  },
  {
   "cell_type": "code",
   "execution_count": 17,
   "id": "cc7117c8",
   "metadata": {},
   "outputs": [],
   "source": [
    "def catch_count(df: pd.DataFrame, fate: str, med_weight: float) -> int:\n",
    "    \"\"\"\n",
    "    Calculate the number of individual sharks from total catch amounts.\n",
    "    \n",
    "    Parameters\n",
    "    ----------\n",
    "    df: pd.DataFrame\n",
    "        Data for either coastal or offshore shark species.\n",
    "    fate: str\n",
    "        The fate for which mortality is being calculated.\n",
    "        Allowed values: [\"discard_alive\", \"discard_dead\", \"retained\"]\n",
    "    med_weight: float\n",
    "        Median weight of coastal or offshore shark species.\n",
    "    Returns\n",
    "    -------\n",
    "    catch_count: int\n",
    "        The number of individual sharks caught.\n",
    "    \"\"\"\n",
    "    if fate == \"retained\":\n",
    "        total_catch = df[df.catch_type == \"Landings\"][\"sum\"].sum()\n",
    "    else:\n",
    "        total_catch = df[df.catch_type == \"Discards\"][\"sum\"].sum()\n",
    "    catch_count = int(total_catch*1000/med_weight)\n",
    "    return catch_count"
   ]
  },
  {
   "cell_type": "code",
   "execution_count": 18,
   "id": "874f97a0",
   "metadata": {
    "scrolled": false
   },
   "outputs": [
    {
     "data": {
      "text/plain": [
       "True"
      ]
     },
     "execution_count": 18,
     "metadata": {},
     "output_type": "execute_result"
    }
   ],
   "source": [
    "catch_count(coastal, \"discard_alive\", median_weight[\"coastal\"]) == n_catch"
   ]
  },
  {
   "cell_type": "markdown",
   "id": "5c52a194",
   "metadata": {},
   "source": [
    "probability of being discarded alive"
   ]
  },
  {
   "cell_type": "code",
   "execution_count": 19,
   "id": "8fb1143a",
   "metadata": {},
   "outputs": [],
   "source": [
    "# Keep species that are not in the above list\n",
    "fate_shark = fate[~fate.family.isin(non_shark_families)]\n",
    "# Non-RFMO data\n",
    "fate_non_rfmo_shark = fate_shark[fate_shark.rfmo == \"Non-RFMO\"]\n",
    "# RFMO data\n",
    "fate_rfmo_shark = fate_shark[fate_shark.rfmo != \"Non-RFMO\"]"
   ]
  },
  {
   "cell_type": "code",
   "execution_count": 20,
   "id": "c02c9d29",
   "metadata": {},
   "outputs": [
    {
     "data": {
      "text/plain": [
       "0.7650071884319712"
      ]
     },
     "execution_count": 20,
     "metadata": {},
     "output_type": "execute_result"
    }
   ],
   "source": [
    "# Probabilities of each fate\n",
    "fate_probs = (\n",
    "    fate_non_rfmo_shark.groupby([\"fate_type\"])[\"sample_size\"].sum() \n",
    "    / fate_non_rfmo_shark.groupby([\"fate_type\"])[\"sample_size\"].sum().sum()\n",
    ")\n",
    "#display(fate_probs)\n",
    "\n",
    "# Probability of being discarded alive\n",
    "discard_alive_prob = fate_probs[fate_probs.index == \"discard_alive\"].values[0]\n",
    "discard_alive_prob"
   ]
  },
  {
   "cell_type": "code",
   "execution_count": 21,
   "id": "8119f91d",
   "metadata": {},
   "outputs": [],
   "source": [
    "def p_fate(fate_df: pd.DataFrame, fate: str, domain: str) -> float:\n",
    "    \"\"\"\n",
    "    Calculate the probability of the given fate for either coastal or offshore species.\n",
    "    \n",
    "    Parameters\n",
    "    ----------\n",
    "    fate_df: pd.DataFrame\n",
    "        The fate dataset to calculate fate proababilities.\n",
    "    fate: str\n",
    "        The fate to calculate probability for.\n",
    "        Allowed values: [\"discard_alive\", \"discard_dead\", \"retained\"]\n",
    "    domain: str\n",
    "        Allowed values: [\"coastal\", \"offshore\"]\n",
    "    \n",
    "    Returns\n",
    "    -------\n",
    "    p_fate: float\n",
    "        The probability of the given fate.\n",
    "    \"\"\"\n",
    "    fate_shark = fate_df[~fate_df.family.isin(non_shark_families)]\n",
    "    if domain == \"coastal\":\n",
    "        shark_fates = fate_shark[fate_shark.rfmo == \"Non-RFMO\"]\n",
    "    else:\n",
    "        shark_fates = fate_shark[fate_shark.rfmo != \"Non-RFMO\"]\n",
    "    \n",
    "    # Probabilities of each fate\n",
    "    fate_probs = (\n",
    "        shark_fates.groupby([\"fate_type\"])[\"sample_size\"].sum() \n",
    "        / shark_fates.groupby([\"fate_type\"])[\"sample_size\"].sum().sum()\n",
    "    )\n",
    "    #display(fate_probs)\n",
    "\n",
    "    # Probability of given fate\n",
    "    if (fate == \"retained\") and (domain == \"coastal\"):\n",
    "        p_fate = fate_probs.iloc[-2:].sum()\n",
    "    elif (fate == \"retained\") and (domain == \"offshore\"):\n",
    "        p_fate = fate_probs.loc[\"retained_whole\"]\n",
    "    else:\n",
    "        p_fate = fate_probs[fate_probs.index == fate].values[0]\n",
    "    return p_fate    "
   ]
  },
  {
   "cell_type": "code",
   "execution_count": 22,
   "id": "a2475f9e",
   "metadata": {},
   "outputs": [
    {
     "data": {
      "text/plain": [
       "True"
      ]
     },
     "execution_count": 22,
     "metadata": {},
     "output_type": "execute_result"
    }
   ],
   "source": [
    "p_fate(fate, \"discard_alive\", \"coastal\") == discard_alive_prob"
   ]
  },
  {
   "cell_type": "markdown",
   "id": "34942d2b",
   "metadata": {},
   "source": [
    "probability of post-release mortality"
   ]
  },
  {
   "cell_type": "code",
   "execution_count": 23,
   "id": "d5da31bd",
   "metadata": {},
   "outputs": [],
   "source": [
    "mortality_shark = mortality[~mortality.family.isin(non_shark_families2)]"
   ]
  },
  {
   "cell_type": "code",
   "execution_count": 24,
   "id": "9e3c3e05",
   "metadata": {},
   "outputs": [
    {
     "data": {
      "text/plain": [
       "0.04102341960765439"
      ]
     },
     "execution_count": 24,
     "metadata": {},
     "output_type": "execute_result"
    }
   ],
   "source": [
    "# Probability of each post release event\n",
    "post_release_probs = (\n",
    "    mortality_shark.groupby(\"estimate_type\").sample_size.sum() \n",
    "    / mortality_shark.groupby(\"estimate_type\").sample_size.sum().sum()\n",
    ")\n",
    "#display(post_release_probs)\n",
    "\n",
    "# Probability of post-release mortality\n",
    "discard_alive_mortality_prob = post_release_probs[post_release_probs.index == \"post-release mortality\"].values[0]\n",
    "discard_alive_mortality_prob"
   ]
  },
  {
   "cell_type": "code",
   "execution_count": 25,
   "id": "3a1335ef",
   "metadata": {},
   "outputs": [],
   "source": [
    "def m_fate(mortality_df: pd.DataFrame, fate:str, domain: str) -> float:\n",
    "    \"\"\"\n",
    "    Calculate the mortality of the given fate for either coastal or offshore species.\n",
    "    \n",
    "    Parameters\n",
    "    ----------\n",
    "    mortality_df: pd.DataFrame\n",
    "        The mortality dataset to calculate fate mortality probabilities.\n",
    "    fate: str\n",
    "        The fate to calculate mortality probability for.\n",
    "        Allowed values: [\"discard_alive\", \"discard_dead\", \"retained\"]\n",
    "    domain: str\n",
    "        Allowed values: [\"coastal\", \"offshore\"]\n",
    "    \n",
    "    Returns\n",
    "    -------\n",
    "    p_fate: float\n",
    "        The probability of mortality for the given fate.\n",
    "    \"\"\"\n",
    "    mortality_shark = mortality_df[~mortality_df.family.isin(non_shark_families2)]\n",
    "    # Probability of each post release event\n",
    "    post_release_probs = (\n",
    "        mortality_shark.groupby(\"estimate_type\").sample_size.sum() \n",
    "        / mortality_shark.groupby(\"estimate_type\").sample_size.sum().sum()\n",
    "    )\n",
    "    # Probability of the given mortality\n",
    "    if fate == \"discard_alive\":\n",
    "        mortality_prob = post_release_probs[post_release_probs.index == \"post-release mortality\"].values[0]\n",
    "    elif fate in [\"discard_dead\", \"retained\"]:\n",
    "        mortality_prob = 1\n",
    "    return mortality_prob"
   ]
  },
  {
   "cell_type": "code",
   "execution_count": 26,
   "id": "51eb026c",
   "metadata": {},
   "outputs": [
    {
     "data": {
      "text/plain": [
       "True"
      ]
     },
     "execution_count": 26,
     "metadata": {},
     "output_type": "execute_result"
    }
   ],
   "source": [
    "m_fate(mortality, \"discard_alive\", \"coastal\") == discard_alive_mortality_prob"
   ]
  },
  {
   "cell_type": "markdown",
   "id": "3a1aa5c5",
   "metadata": {},
   "source": [
    "**Result:**"
   ]
  },
  {
   "cell_type": "code",
   "execution_count": 27,
   "id": "2147602a",
   "metadata": {},
   "outputs": [
    {
     "data": {
      "text/plain": [
       "1479398.4104298975"
      ]
     },
     "execution_count": 27,
     "metadata": {},
     "output_type": "execute_result"
    }
   ],
   "source": [
    "# Mortality of sharks discarded alive\n",
    "discard_alive_mortality = n_catch * discard_alive_prob * discard_alive_mortality_prob\n",
    "discard_alive_mortality"
   ]
  },
  {
   "cell_type": "code",
   "execution_count": 28,
   "id": "822b81db",
   "metadata": {},
   "outputs": [
    {
     "data": {
      "text/plain": [
       "True"
      ]
     },
     "execution_count": 28,
     "metadata": {},
     "output_type": "execute_result"
    }
   ],
   "source": [
    "# Mortality of sharks discarded alive\n",
    "x = (\n",
    "    catch_count(coastal, \"discard_alive\", median_weight[\"coastal\"])\n",
    "    *\n",
    "    p_fate(fate, \"discard_alive\", \"coastal\")\n",
    "    *\n",
    "    m_fate(mortality, \"discard_alive\", \"coastal\")\n",
    ")\n",
    "x == discard_alive_mortality"
   ]
  },
  {
   "cell_type": "markdown",
   "id": "29127b8a",
   "metadata": {},
   "source": [
    "##### 3.2.1.2 Mortality of sharks discarded dead"
   ]
  },
  {
   "cell_type": "code",
   "execution_count": 29,
   "id": "9990960e",
   "metadata": {},
   "outputs": [
    {
     "name": "stdout",
     "output_type": "stream",
     "text": [
      "0.044684718938250774\n",
      "2106428.8925442295\n"
     ]
    }
   ],
   "source": [
    "# Probability of being discarded dead\n",
    "discard_dead_prob = fate_probs[fate_probs.index == \"discard_dead\"].values[0]\n",
    "print(discard_dead_prob)\n",
    "\n",
    "# Probability of mortality after being discarded dead is 1 (its already dead)\n",
    "discard_dead_mortality_prob = 1\n",
    "\n",
    "# Mortality of sharks discarded dead\n",
    "discard_dead_mortality = n_catch * discard_dead_prob * discard_dead_mortality_prob\n",
    "print(discard_dead_mortality)"
   ]
  },
  {
   "cell_type": "code",
   "execution_count": 30,
   "id": "e32caa8c",
   "metadata": {},
   "outputs": [
    {
     "data": {
      "text/plain": [
       "True"
      ]
     },
     "execution_count": 30,
     "metadata": {},
     "output_type": "execute_result"
    }
   ],
   "source": [
    "# Mortality of sharks discarded alive\n",
    "x2 = (\n",
    "    catch_count(coastal, \"discard_dead\", median_weight[\"coastal\"])\n",
    "    *\n",
    "    p_fate(fate, \"discard_dead\", \"coastal\")\n",
    "    *\n",
    "    m_fate(mortality, \"discard_dead\", \"coastal\")\n",
    ")\n",
    "x2 == discard_dead_mortality"
   ]
  },
  {
   "cell_type": "markdown",
   "id": "a078851f",
   "metadata": {},
   "source": [
    "##### 3.2.1.3 Mortality of sharks retained"
   ]
  },
  {
   "cell_type": "code",
   "execution_count": 31,
   "id": "af28ade1",
   "metadata": {},
   "outputs": [
    {
     "name": "stdout",
     "output_type": "stream",
     "text": [
      "3645909873.2798953\n"
     ]
    },
    {
     "data": {
      "text/plain": [
       "175706499"
      ]
     },
     "execution_count": 31,
     "metadata": {},
     "output_type": "execute_result"
    }
   ],
   "source": [
    "# Catch count\n",
    "avg_weight = 20.75\n",
    "total_catch = coastal[coastal.catch_type == \"Landings\"][\"sum\"].sum()\n",
    "print(total_catch*1000)\n",
    "n_catch = int(total_catch*1000/avg_weight)\n",
    "n_catch"
   ]
  },
  {
   "cell_type": "code",
   "execution_count": 32,
   "id": "15015657",
   "metadata": {},
   "outputs": [
    {
     "data": {
      "text/plain": [
       "True"
      ]
     },
     "execution_count": 32,
     "metadata": {},
     "output_type": "execute_result"
    }
   ],
   "source": [
    "catch_count(coastal, \"retained\", median_weight[\"coastal\"]) == n_catch"
   ]
  },
  {
   "cell_type": "code",
   "execution_count": 33,
   "id": "2786108f",
   "metadata": {},
   "outputs": [
    {
     "name": "stdout",
     "output_type": "stream",
     "text": [
      "0.19030809262977794\n"
     ]
    }
   ],
   "source": [
    "# Probability of catch being retained\n",
    "retained_prob = fate_probs.iloc[-2:].sum()\n",
    "print(retained_prob)\n",
    "\n",
    "# Probability of retained catch mortality is 1 (fish dont survive on land)\n",
    "retained_mortality_prob = 1"
   ]
  },
  {
   "cell_type": "code",
   "execution_count": 34,
   "id": "ea96cddd",
   "metadata": {},
   "outputs": [
    {
     "data": {
      "text/plain": [
       "33438368.687345985"
      ]
     },
     "execution_count": 34,
     "metadata": {},
     "output_type": "execute_result"
    }
   ],
   "source": [
    "# Mortality of sharks retained\n",
    "retained_mortality = n_catch * retained_prob * retained_mortality_prob\n",
    "retained_mortality"
   ]
  },
  {
   "cell_type": "code",
   "execution_count": 35,
   "id": "80b49e3b",
   "metadata": {},
   "outputs": [
    {
     "data": {
      "text/plain": [
       "True"
      ]
     },
     "execution_count": 35,
     "metadata": {},
     "output_type": "execute_result"
    }
   ],
   "source": [
    "# Mortality of sharks retained\n",
    "x3 = (\n",
    "    catch_count(coastal, \"retained\", median_weight[\"coastal\"])\n",
    "    *\n",
    "    p_fate(fate, \"retained\", \"coastal\")\n",
    "    *\n",
    "    m_fate(mortality, \"retained\", \"coastal\")\n",
    ")\n",
    "x3 == retained_mortality"
   ]
  },
  {
   "cell_type": "markdown",
   "id": "d4a64859",
   "metadata": {},
   "source": [
    "**Total mortality of Coastal Shark Spcies (non-rfmo)**"
   ]
  },
  {
   "cell_type": "code",
   "execution_count": 36,
   "id": "4bd94c24",
   "metadata": {
    "scrolled": true
   },
   "outputs": [
    {
     "data": {
      "text/plain": [
       "37024195.99032012"
      ]
     },
     "execution_count": 36,
     "metadata": {},
     "output_type": "execute_result"
    }
   ],
   "source": [
    "total_costal_mortality = discard_alive_mortality + discard_dead_mortality + retained_mortality\n",
    "total_costal_mortality"
   ]
  },
  {
   "cell_type": "code",
   "execution_count": 37,
   "id": "17560223",
   "metadata": {},
   "outputs": [
    {
     "data": {
      "text/plain": [
       "True"
      ]
     },
     "execution_count": 37,
     "metadata": {},
     "output_type": "execute_result"
    }
   ],
   "source": [
    "total_costal_mortality == (x + x2 + x3)"
   ]
  },
  {
   "cell_type": "markdown",
   "id": "7020dad2",
   "metadata": {},
   "source": [
    "## Coastal mortality for each year"
   ]
  },
  {
   "cell_type": "code",
   "execution_count": 38,
   "id": "76c9c1d9",
   "metadata": {},
   "outputs": [],
   "source": [
    "# coastal_mortalities = {}\n",
    "# for year, data in coastal.groupby(\"year\"):\n",
    "#     totals = []\n",
    "#     for f in fates:\n",
    "#         n_catch = catch_count(data, f, median_weight[\"coastal\"])\n",
    "#         p = p_fate(fate, f, \"coastal\")\n",
    "#         m = m_fate(mortality, f, \"coastal\")\n",
    "#         mortality_fate = n_catch * p * m\n",
    "#         totals.append(mortality_fate)\n",
    "#     total_mortality = sum(totals)\n",
    "#     print(f\"{year} : {total_mortality:.2f}\")\n",
    "#     coastal_mortalities[year] = total_mortality"
   ]
  },
  {
   "cell_type": "code",
   "execution_count": 39,
   "id": "94b0f2a4",
   "metadata": {},
   "outputs": [],
   "source": [
    "# plt.figure(figsize=(8, 6))\n",
    "# plt.bar(coastal_mortalities.keys(), coastal_mortalities.values(), color=\"grey\")\n",
    "# plt.plot(coastal_mortalities.keys(), coastal_mortalities.values(), color=\"red\")\n",
    "# plt.yscale(\"log\")\n",
    "# plt.ylabel(\"Mortality (count)\", fontsize=13)\n",
    "# plt.savefig(\"outputs/coastal-mortalities-by-year.jpg\", dpi=300)\n",
    "# plt.show()"
   ]
  },
  {
   "cell_type": "code",
   "execution_count": null,
   "id": "669c8b57",
   "metadata": {},
   "outputs": [],
   "source": []
  },
  {
   "cell_type": "code",
   "execution_count": 40,
   "id": "6fd3e186",
   "metadata": {},
   "outputs": [
    {
     "name": "stdout",
     "output_type": "stream",
     "text": [
      "discard_alive \t| 2283085 x 0.45 x 0.04 = 41759.02\n",
      "discard_dead \t| 2283085 x 0.18 x 1.00 = 405246.98\n",
      "retained \t| 10417789 x 0.01 x 1.00 = 123347.98\n",
      "year: 2010; total mortality: 570353.99\n",
      "\n",
      "discard_alive \t| 2872045 x 0.45 x 0.04 = 52531.46\n",
      "discard_dead \t| 2872045 x 0.18 x 1.00 = 509787.23\n",
      "retained \t| 11595457 x 0.01 x 1.00 = 137291.73\n",
      "year: 2011; total mortality: 699610.41\n",
      "\n",
      "discard_alive \t| 2792042 x 0.45 x 0.04 = 51068.15\n",
      "discard_dead \t| 2792042 x 0.18 x 1.00 = 495586.72\n",
      "retained \t| 12521178 x 0.01 x 1.00 = 148252.39\n",
      "year: 2012; total mortality: 694907.26\n",
      "\n",
      "discard_alive \t| 2504898 x 0.45 x 0.04 = 45816.11\n",
      "discard_dead \t| 2504898 x 0.18 x 1.00 = 444618.73\n",
      "retained \t| 13182597 x 0.01 x 1.00 = 156083.67\n",
      "year: 2013; total mortality: 646518.52\n",
      "\n",
      "discard_alive \t| 2775071 x 0.45 x 0.04 = 50757.74\n",
      "discard_dead \t| 2775071 x 0.18 x 1.00 = 492574.37\n",
      "retained \t| 12076024 x 0.01 x 1.00 = 142981.70\n",
      "year: 2014; total mortality: 686313.82\n",
      "\n",
      "discard_alive \t| 3353242 x 0.45 x 0.04 = 61332.84\n",
      "discard_dead \t| 3353242 x 0.18 x 1.00 = 595199.57\n",
      "retained \t| 10738588 x 0.01 x 1.00 = 127146.29\n",
      "year: 2015; total mortality: 783678.70\n",
      "\n",
      "discard_alive \t| 3453504 x 0.45 x 0.04 = 63166.70\n",
      "discard_dead \t| 3453504 x 0.18 x 1.00 = 612996.05\n",
      "retained \t| 10201436 x 0.01 x 1.00 = 120786.34\n",
      "year: 2016; total mortality: 796949.08\n",
      "\n",
      "discard_alive \t| 3664974 x 0.45 x 0.04 = 67034.61\n",
      "discard_dead \t| 3664974 x 0.18 x 1.00 = 650531.91\n",
      "retained \t| 10853641 x 0.01 x 1.00 = 128508.53\n",
      "year: 2017; total mortality: 846075.06\n",
      "\n",
      "discard_alive \t| 3471994 x 0.45 x 0.04 = 63504.89\n",
      "discard_dead \t| 3471994 x 0.18 x 1.00 = 616278.02\n",
      "retained \t| 9688561 x 0.01 x 1.00 = 114713.83\n",
      "year: 2018; total mortality: 794496.74\n",
      "\n"
     ]
    }
   ],
   "source": [
    "coastal_mortalities = []\n",
    "for year, data in coastal.groupby(\"year\"):\n",
    "    totals = []\n",
    "    for f in fates:\n",
    "        n_catch = catch_count(data, f, median_weight[\"offshore\"])\n",
    "        p = p_fate(fate, f, \"offshore\")\n",
    "        m = m_fate(mortality, f, \"offshore\")\n",
    "        mortality_fate = n_catch * p * m\n",
    "        print(f\"{f} \\t| {n_catch} x {p:.2f} x {m:.2f} = {mortality_fate:.2f}\")\n",
    "        info = {\n",
    "            \"year\": year, \n",
    "            \"fate\": f, \n",
    "            \"n_catch\": n_catch, \n",
    "            f\"p_fate\": p, \n",
    "            f\"m_fate\": m,\n",
    "            f\"mortality_fate\": mortality_fate,\n",
    "        }\n",
    "        coastal_mortalities.append(info)\n",
    "        totals.append(mortality_fate)\n",
    "    total_mortality = sum(totals)\n",
    "    print(f\"year: {year}; total mortality: {total_mortality:.2f}\\n\")"
   ]
  },
  {
   "cell_type": "code",
   "execution_count": 41,
   "id": "d8dcfc3b",
   "metadata": {},
   "outputs": [
    {
     "data": {
      "text/html": [
       "<div>\n",
       "<style scoped>\n",
       "    .dataframe tbody tr th:only-of-type {\n",
       "        vertical-align: middle;\n",
       "    }\n",
       "\n",
       "    .dataframe tbody tr th {\n",
       "        vertical-align: top;\n",
       "    }\n",
       "\n",
       "    .dataframe thead th {\n",
       "        text-align: right;\n",
       "    }\n",
       "</style>\n",
       "<table border=\"1\" class=\"dataframe\">\n",
       "  <thead>\n",
       "    <tr style=\"text-align: right;\">\n",
       "      <th></th>\n",
       "      <th>year</th>\n",
       "      <th>fate</th>\n",
       "      <th>n_catch</th>\n",
       "      <th>p_fate</th>\n",
       "      <th>m_fate</th>\n",
       "      <th>mortality_fate</th>\n",
       "    </tr>\n",
       "  </thead>\n",
       "  <tbody>\n",
       "    <tr>\n",
       "      <th>0</th>\n",
       "      <td>2010</td>\n",
       "      <td>discard_alive</td>\n",
       "      <td>2283085</td>\n",
       "      <td>0.445858</td>\n",
       "      <td>0.041023</td>\n",
       "      <td>41759.019116</td>\n",
       "    </tr>\n",
       "    <tr>\n",
       "      <th>1</th>\n",
       "      <td>2010</td>\n",
       "      <td>discard_dead</td>\n",
       "      <td>2283085</td>\n",
       "      <td>0.177500</td>\n",
       "      <td>1.000000</td>\n",
       "      <td>405246.983176</td>\n",
       "    </tr>\n",
       "    <tr>\n",
       "      <th>2</th>\n",
       "      <td>2010</td>\n",
       "      <td>retained</td>\n",
       "      <td>10417789</td>\n",
       "      <td>0.011840</td>\n",
       "      <td>1.000000</td>\n",
       "      <td>123347.984940</td>\n",
       "    </tr>\n",
       "    <tr>\n",
       "      <th>3</th>\n",
       "      <td>2011</td>\n",
       "      <td>discard_alive</td>\n",
       "      <td>2872045</td>\n",
       "      <td>0.445858</td>\n",
       "      <td>0.041023</td>\n",
       "      <td>52531.457242</td>\n",
       "    </tr>\n",
       "    <tr>\n",
       "      <th>4</th>\n",
       "      <td>2011</td>\n",
       "      <td>discard_dead</td>\n",
       "      <td>2872045</td>\n",
       "      <td>0.177500</td>\n",
       "      <td>1.000000</td>\n",
       "      <td>509787.227281</td>\n",
       "    </tr>\n",
       "    <tr>\n",
       "      <th>5</th>\n",
       "      <td>2011</td>\n",
       "      <td>retained</td>\n",
       "      <td>11595457</td>\n",
       "      <td>0.011840</td>\n",
       "      <td>1.000000</td>\n",
       "      <td>137291.728159</td>\n",
       "    </tr>\n",
       "    <tr>\n",
       "      <th>6</th>\n",
       "      <td>2012</td>\n",
       "      <td>discard_alive</td>\n",
       "      <td>2792042</td>\n",
       "      <td>0.445858</td>\n",
       "      <td>0.041023</td>\n",
       "      <td>51068.153508</td>\n",
       "    </tr>\n",
       "    <tr>\n",
       "      <th>7</th>\n",
       "      <td>2012</td>\n",
       "      <td>discard_dead</td>\n",
       "      <td>2792042</td>\n",
       "      <td>0.177500</td>\n",
       "      <td>1.000000</td>\n",
       "      <td>495586.715957</td>\n",
       "    </tr>\n",
       "    <tr>\n",
       "      <th>8</th>\n",
       "      <td>2012</td>\n",
       "      <td>retained</td>\n",
       "      <td>12521178</td>\n",
       "      <td>0.011840</td>\n",
       "      <td>1.000000</td>\n",
       "      <td>148252.385931</td>\n",
       "    </tr>\n",
       "    <tr>\n",
       "      <th>9</th>\n",
       "      <td>2013</td>\n",
       "      <td>discard_alive</td>\n",
       "      <td>2504898</td>\n",
       "      <td>0.445858</td>\n",
       "      <td>0.041023</td>\n",
       "      <td>45816.114366</td>\n",
       "    </tr>\n",
       "    <tr>\n",
       "      <th>10</th>\n",
       "      <td>2013</td>\n",
       "      <td>discard_dead</td>\n",
       "      <td>2504898</td>\n",
       "      <td>0.177500</td>\n",
       "      <td>1.000000</td>\n",
       "      <td>444618.731963</td>\n",
       "    </tr>\n",
       "    <tr>\n",
       "      <th>11</th>\n",
       "      <td>2013</td>\n",
       "      <td>retained</td>\n",
       "      <td>13182597</td>\n",
       "      <td>0.011840</td>\n",
       "      <td>1.000000</td>\n",
       "      <td>156083.673438</td>\n",
       "    </tr>\n",
       "    <tr>\n",
       "      <th>12</th>\n",
       "      <td>2014</td>\n",
       "      <td>discard_alive</td>\n",
       "      <td>2775071</td>\n",
       "      <td>0.445858</td>\n",
       "      <td>0.041023</td>\n",
       "      <td>50757.743552</td>\n",
       "    </tr>\n",
       "    <tr>\n",
       "      <th>13</th>\n",
       "      <td>2014</td>\n",
       "      <td>discard_dead</td>\n",
       "      <td>2775071</td>\n",
       "      <td>0.177500</td>\n",
       "      <td>1.000000</td>\n",
       "      <td>492574.367949</td>\n",
       "    </tr>\n",
       "    <tr>\n",
       "      <th>14</th>\n",
       "      <td>2014</td>\n",
       "      <td>retained</td>\n",
       "      <td>12076024</td>\n",
       "      <td>0.011840</td>\n",
       "      <td>1.000000</td>\n",
       "      <td>142981.704322</td>\n",
       "    </tr>\n",
       "    <tr>\n",
       "      <th>15</th>\n",
       "      <td>2015</td>\n",
       "      <td>discard_alive</td>\n",
       "      <td>3353242</td>\n",
       "      <td>0.445858</td>\n",
       "      <td>0.041023</td>\n",
       "      <td>61332.844279</td>\n",
       "    </tr>\n",
       "    <tr>\n",
       "      <th>16</th>\n",
       "      <td>2015</td>\n",
       "      <td>discard_dead</td>\n",
       "      <td>3353242</td>\n",
       "      <td>0.177500</td>\n",
       "      <td>1.000000</td>\n",
       "      <td>595199.567410</td>\n",
       "    </tr>\n",
       "    <tr>\n",
       "      <th>17</th>\n",
       "      <td>2015</td>\n",
       "      <td>retained</td>\n",
       "      <td>10738588</td>\n",
       "      <td>0.011840</td>\n",
       "      <td>1.000000</td>\n",
       "      <td>127146.287077</td>\n",
       "    </tr>\n",
       "    <tr>\n",
       "      <th>18</th>\n",
       "      <td>2016</td>\n",
       "      <td>discard_alive</td>\n",
       "      <td>3453504</td>\n",
       "      <td>0.445858</td>\n",
       "      <td>0.041023</td>\n",
       "      <td>63166.697497</td>\n",
       "    </tr>\n",
       "    <tr>\n",
       "      <th>19</th>\n",
       "      <td>2016</td>\n",
       "      <td>discard_dead</td>\n",
       "      <td>3453504</td>\n",
       "      <td>0.177500</td>\n",
       "      <td>1.000000</td>\n",
       "      <td>612996.045871</td>\n",
       "    </tr>\n",
       "    <tr>\n",
       "      <th>20</th>\n",
       "      <td>2016</td>\n",
       "      <td>retained</td>\n",
       "      <td>10201436</td>\n",
       "      <td>0.011840</td>\n",
       "      <td>1.000000</td>\n",
       "      <td>120786.337110</td>\n",
       "    </tr>\n",
       "    <tr>\n",
       "      <th>21</th>\n",
       "      <td>2017</td>\n",
       "      <td>discard_alive</td>\n",
       "      <td>3664974</td>\n",
       "      <td>0.445858</td>\n",
       "      <td>0.041023</td>\n",
       "      <td>67034.612959</td>\n",
       "    </tr>\n",
       "    <tr>\n",
       "      <th>22</th>\n",
       "      <td>2017</td>\n",
       "      <td>discard_dead</td>\n",
       "      <td>3664974</td>\n",
       "      <td>0.177500</td>\n",
       "      <td>1.000000</td>\n",
       "      <td>650531.914896</td>\n",
       "    </tr>\n",
       "    <tr>\n",
       "      <th>23</th>\n",
       "      <td>2017</td>\n",
       "      <td>retained</td>\n",
       "      <td>10853641</td>\n",
       "      <td>0.011840</td>\n",
       "      <td>1.000000</td>\n",
       "      <td>128508.529651</td>\n",
       "    </tr>\n",
       "    <tr>\n",
       "      <th>24</th>\n",
       "      <td>2018</td>\n",
       "      <td>discard_alive</td>\n",
       "      <td>3471994</td>\n",
       "      <td>0.445858</td>\n",
       "      <td>0.041023</td>\n",
       "      <td>63504.890890</td>\n",
       "    </tr>\n",
       "    <tr>\n",
       "      <th>25</th>\n",
       "      <td>2018</td>\n",
       "      <td>discard_dead</td>\n",
       "      <td>3471994</td>\n",
       "      <td>0.177500</td>\n",
       "      <td>1.000000</td>\n",
       "      <td>616278.015977</td>\n",
       "    </tr>\n",
       "    <tr>\n",
       "      <th>26</th>\n",
       "      <td>2018</td>\n",
       "      <td>retained</td>\n",
       "      <td>9688561</td>\n",
       "      <td>0.011840</td>\n",
       "      <td>1.000000</td>\n",
       "      <td>114713.829999</td>\n",
       "    </tr>\n",
       "  </tbody>\n",
       "</table>\n",
       "</div>"
      ],
      "text/plain": [
       "    year           fate   n_catch    p_fate    m_fate  mortality_fate\n",
       "0   2010  discard_alive   2283085  0.445858  0.041023    41759.019116\n",
       "1   2010   discard_dead   2283085  0.177500  1.000000   405246.983176\n",
       "2   2010       retained  10417789  0.011840  1.000000   123347.984940\n",
       "3   2011  discard_alive   2872045  0.445858  0.041023    52531.457242\n",
       "4   2011   discard_dead   2872045  0.177500  1.000000   509787.227281\n",
       "5   2011       retained  11595457  0.011840  1.000000   137291.728159\n",
       "6   2012  discard_alive   2792042  0.445858  0.041023    51068.153508\n",
       "7   2012   discard_dead   2792042  0.177500  1.000000   495586.715957\n",
       "8   2012       retained  12521178  0.011840  1.000000   148252.385931\n",
       "9   2013  discard_alive   2504898  0.445858  0.041023    45816.114366\n",
       "10  2013   discard_dead   2504898  0.177500  1.000000   444618.731963\n",
       "11  2013       retained  13182597  0.011840  1.000000   156083.673438\n",
       "12  2014  discard_alive   2775071  0.445858  0.041023    50757.743552\n",
       "13  2014   discard_dead   2775071  0.177500  1.000000   492574.367949\n",
       "14  2014       retained  12076024  0.011840  1.000000   142981.704322\n",
       "15  2015  discard_alive   3353242  0.445858  0.041023    61332.844279\n",
       "16  2015   discard_dead   3353242  0.177500  1.000000   595199.567410\n",
       "17  2015       retained  10738588  0.011840  1.000000   127146.287077\n",
       "18  2016  discard_alive   3453504  0.445858  0.041023    63166.697497\n",
       "19  2016   discard_dead   3453504  0.177500  1.000000   612996.045871\n",
       "20  2016       retained  10201436  0.011840  1.000000   120786.337110\n",
       "21  2017  discard_alive   3664974  0.445858  0.041023    67034.612959\n",
       "22  2017   discard_dead   3664974  0.177500  1.000000   650531.914896\n",
       "23  2017       retained  10853641  0.011840  1.000000   128508.529651\n",
       "24  2018  discard_alive   3471994  0.445858  0.041023    63504.890890\n",
       "25  2018   discard_dead   3471994  0.177500  1.000000   616278.015977\n",
       "26  2018       retained   9688561  0.011840  1.000000   114713.829999"
      ]
     },
     "execution_count": 41,
     "metadata": {},
     "output_type": "execute_result"
    }
   ],
   "source": [
    "coastal_mdf = pd.DataFrame(coastal_mortalities)\n",
    "coastal_mdf.to_excel(\"outputs/coastal-mortalities-by-year.xlsx\", index=False)\n",
    "coastal_mdf"
   ]
  },
  {
   "cell_type": "code",
   "execution_count": 42,
   "id": "15c6ba00",
   "metadata": {},
   "outputs": [
    {
     "data": {
      "text/html": [
       "<div>\n",
       "<style scoped>\n",
       "    .dataframe tbody tr th:only-of-type {\n",
       "        vertical-align: middle;\n",
       "    }\n",
       "\n",
       "    .dataframe tbody tr th {\n",
       "        vertical-align: top;\n",
       "    }\n",
       "\n",
       "    .dataframe thead th {\n",
       "        text-align: right;\n",
       "    }\n",
       "</style>\n",
       "<table border=\"1\" class=\"dataframe\">\n",
       "  <thead>\n",
       "    <tr style=\"text-align: right;\">\n",
       "      <th></th>\n",
       "      <th>total_mortality</th>\n",
       "    </tr>\n",
       "    <tr>\n",
       "      <th>year</th>\n",
       "      <th></th>\n",
       "    </tr>\n",
       "  </thead>\n",
       "  <tbody>\n",
       "    <tr>\n",
       "      <th>2010</th>\n",
       "      <td>570353.99</td>\n",
       "    </tr>\n",
       "    <tr>\n",
       "      <th>2011</th>\n",
       "      <td>699610.41</td>\n",
       "    </tr>\n",
       "    <tr>\n",
       "      <th>2012</th>\n",
       "      <td>694907.26</td>\n",
       "    </tr>\n",
       "    <tr>\n",
       "      <th>2013</th>\n",
       "      <td>646518.52</td>\n",
       "    </tr>\n",
       "    <tr>\n",
       "      <th>2014</th>\n",
       "      <td>686313.82</td>\n",
       "    </tr>\n",
       "    <tr>\n",
       "      <th>2015</th>\n",
       "      <td>783678.70</td>\n",
       "    </tr>\n",
       "    <tr>\n",
       "      <th>2016</th>\n",
       "      <td>796949.08</td>\n",
       "    </tr>\n",
       "    <tr>\n",
       "      <th>2017</th>\n",
       "      <td>846075.06</td>\n",
       "    </tr>\n",
       "    <tr>\n",
       "      <th>2018</th>\n",
       "      <td>794496.74</td>\n",
       "    </tr>\n",
       "  </tbody>\n",
       "</table>\n",
       "</div>"
      ],
      "text/plain": [
       "      total_mortality\n",
       "year                 \n",
       "2010        570353.99\n",
       "2011        699610.41\n",
       "2012        694907.26\n",
       "2013        646518.52\n",
       "2014        686313.82\n",
       "2015        783678.70\n",
       "2016        796949.08\n",
       "2017        846075.06\n",
       "2018        794496.74"
      ]
     },
     "execution_count": 42,
     "metadata": {},
     "output_type": "execute_result"
    }
   ],
   "source": [
    "coastal_mortalities = coastal_mdf.pivot_table(\n",
    "    index=\"year\",\n",
    "    values=\"mortality_fate\",\n",
    "    aggfunc=np.sum,\n",
    ")\n",
    "coastal_mortalities.columns = [\"total_mortality\"]\n",
    "coastal_mortalities.round(2)"
   ]
  },
  {
   "cell_type": "code",
   "execution_count": 43,
   "id": "f3224e57",
   "metadata": {},
   "outputs": [
    {
     "data": {
      "image/png": "[encoded data removed]",
      "text/plain": [
       "<Figure size 576x432 with 1 Axes>"
      ]
     },
     "metadata": {},
     "output_type": "display_data"
    }
   ],
   "source": [
    "plt.figure(figsize=(8, 6))\n",
    "plt.bar(coastal_mortalities.index, coastal_mortalities.total_mortality, color=\"grey\")\n",
    "plt.plot(coastal_mortalities.index, coastal_mortalities.total_mortality, color=\"red\")\n",
    "plt.xticks(np.arange(2010, 2019))\n",
    "plt.yscale(\"log\")\n",
    "plt.ylabel(\"Mortality (count)\", fontsize=13)\n",
    "plt.savefig(\"outputs/coastal-mortalities-by-year.jpg\", dpi=300)\n",
    "plt.show()"
   ]
  },
  {
   "cell_type": "markdown",
   "id": "d0c02286",
   "metadata": {},
   "source": [
    "#### 3.2.2 Offshore\n",
    "- Median weight of pelagic sharks = 36 kgs\n",
    "- RFMO\n",
    "- Sharks only"
   ]
  },
  {
   "cell_type": "markdown",
   "id": "c3ca6560",
   "metadata": {},
   "source": [
    "##### 3.2.2.1 Mortality of sharks discarded alive"
   ]
  },
  {
   "cell_type": "markdown",
   "id": "c05f66c8",
   "metadata": {},
   "source": [
    "catch[count]"
   ]
  },
  {
   "cell_type": "code",
   "execution_count": 44,
   "id": "1dd12a40",
   "metadata": {},
   "outputs": [
    {
     "name": "stdout",
     "output_type": "stream",
     "text": [
      "1038131310.6535168\n"
     ]
    },
    {
     "data": {
      "text/plain": [
       "28836980"
      ]
     },
     "execution_count": 44,
     "metadata": {},
     "output_type": "execute_result"
    }
   ],
   "source": [
    "avg_weight = 36\n",
    "total_catch = offshore[offshore.catch_type == \"Discards\"][\"sum\"].sum()\n",
    "print(total_catch*1000)\n",
    "n_catch = int(total_catch*1000/avg_weight)\n",
    "n_catch"
   ]
  },
  {
   "cell_type": "code",
   "execution_count": 45,
   "id": "7eab8173",
   "metadata": {},
   "outputs": [
    {
     "data": {
      "text/plain": [
       "True"
      ]
     },
     "execution_count": 45,
     "metadata": {},
     "output_type": "execute_result"
    }
   ],
   "source": [
    "catch_count(offshore, \"discard_alive\", median_weight[\"offshore\"]) == n_catch"
   ]
  },
  {
   "cell_type": "markdown",
   "id": "67c93d1b",
   "metadata": {},
   "source": [
    "probability of being discarded alive"
   ]
  },
  {
   "cell_type": "code",
   "execution_count": 46,
   "id": "67cecc2f",
   "metadata": {},
   "outputs": [],
   "source": [
    "# Keep species that are not in the above list\n",
    "fate_shark = fate[~fate.family.isin(non_shark_families)]\n",
    "# Keep only RFMO data (not Non-RFMO means all RFMOs)\n",
    "fate_non_rfmo_shark = fate_shark[fate_shark.rfmo != \"Non-RFMO\"]"
   ]
  },
  {
   "cell_type": "code",
   "execution_count": 47,
   "id": "f06d4551",
   "metadata": {},
   "outputs": [
    {
     "data": {
      "text/plain": [
       "0.4458577796925144"
      ]
     },
     "execution_count": 47,
     "metadata": {},
     "output_type": "execute_result"
    }
   ],
   "source": [
    "# Probabilities of each fate\n",
    "fate_probs = (\n",
    "    fate_non_rfmo_shark.groupby([\"fate_type\"])[\"sample_size\"].sum() \n",
    "    / fate_non_rfmo_shark.groupby([\"fate_type\"])[\"sample_size\"].sum().sum()\n",
    ")\n",
    "#display(fate_probs)\n",
    "\n",
    "# Probability of being discarded alive\n",
    "discard_alive_prob = fate_probs[fate_probs.index == \"discard_alive\"].values[0]\n",
    "discard_alive_prob"
   ]
  },
  {
   "cell_type": "code",
   "execution_count": 48,
   "id": "c5fad1f1",
   "metadata": {},
   "outputs": [
    {
     "data": {
      "text/plain": [
       "True"
      ]
     },
     "execution_count": 48,
     "metadata": {},
     "output_type": "execute_result"
    }
   ],
   "source": [
    "p_fate(fate, \"discard_alive\", \"offshore\") == discard_alive_prob"
   ]
  },
  {
   "cell_type": "markdown",
   "id": "b19f0d39",
   "metadata": {},
   "source": [
    "probability of post-release mortality"
   ]
  },
  {
   "cell_type": "code",
   "execution_count": 49,
   "id": "ef86bde5",
   "metadata": {},
   "outputs": [],
   "source": [
    "mortality_shark = mortality[~mortality.family.isin(non_shark_families2)]"
   ]
  },
  {
   "cell_type": "code",
   "execution_count": 50,
   "id": "0bf813a8",
   "metadata": {},
   "outputs": [
    {
     "data": {
      "text/plain": [
       "0.04102341960765439"
      ]
     },
     "execution_count": 50,
     "metadata": {},
     "output_type": "execute_result"
    }
   ],
   "source": [
    "# Probability of each post release event\n",
    "post_release_probs = (\n",
    "    mortality_shark.groupby(\"estimate_type\").sample_size.sum() \n",
    "    / mortality_shark.groupby(\"estimate_type\").sample_size.sum().sum()\n",
    ")\n",
    "#display(post_release_probs)\n",
    "\n",
    "# Probability of post-release mortality\n",
    "discard_alive_mortality_prob = post_release_probs[post_release_probs.index == \"post-release mortality\"].values[0]\n",
    "discard_alive_mortality_prob"
   ]
  },
  {
   "cell_type": "code",
   "execution_count": 51,
   "id": "0e8bb682",
   "metadata": {},
   "outputs": [
    {
     "data": {
      "text/plain": [
       "True"
      ]
     },
     "execution_count": 51,
     "metadata": {},
     "output_type": "execute_result"
    }
   ],
   "source": [
    "m_fate(mortality, \"discard_alive\", \"offshore\") == discard_alive_mortality_prob"
   ]
  },
  {
   "cell_type": "markdown",
   "id": "28af5fb3",
   "metadata": {},
   "source": [
    "**Result:**"
   ]
  },
  {
   "cell_type": "code",
   "execution_count": 52,
   "id": "ce0154d1",
   "metadata": {},
   "outputs": [
    {
     "data": {
      "text/plain": [
       "527445.9772986046"
      ]
     },
     "execution_count": 52,
     "metadata": {},
     "output_type": "execute_result"
    }
   ],
   "source": [
    "# Mortality of sharks discarded alive\n",
    "discard_alive_mortality = n_catch * discard_alive_prob * discard_alive_mortality_prob\n",
    "discard_alive_mortality"
   ]
  },
  {
   "cell_type": "code",
   "execution_count": 53,
   "id": "f22e354a",
   "metadata": {},
   "outputs": [
    {
     "data": {
      "text/plain": [
       "True"
      ]
     },
     "execution_count": 53,
     "metadata": {},
     "output_type": "execute_result"
    }
   ],
   "source": [
    "# Mortality of sharks discarded alive\n",
    "x = (\n",
    "    catch_count(offshore, \"discard_alive\", median_weight[\"offshore\"])\n",
    "    *\n",
    "    p_fate(fate, \"discard_alive\", \"offshore\")\n",
    "    *\n",
    "    m_fate(mortality, \"discard_alive\", \"offshore\")\n",
    ")\n",
    "x == discard_alive_mortality"
   ]
  },
  {
   "cell_type": "markdown",
   "id": "fb79e8b9",
   "metadata": {},
   "source": [
    "##### 3.2.2.2 Mortality of sharks discarded dead"
   ]
  },
  {
   "cell_type": "code",
   "execution_count": 54,
   "id": "b644b235",
   "metadata": {},
   "outputs": [
    {
     "name": "stdout",
     "output_type": "stream",
     "text": [
      "0.17749973530388938\n",
      "5118556.316963552\n"
     ]
    }
   ],
   "source": [
    "# Probability of being discarded dead\n",
    "discard_dead_prob = fate_probs[fate_probs.index == \"discard_dead\"].values[0]\n",
    "print(discard_dead_prob)\n",
    "\n",
    "# Probability of mortality after being discarded dead is 1 (its already dead)\n",
    "discard_dead_mortality_prob = 1\n",
    "\n",
    "# Mortality of sharks discarded dead\n",
    "discard_dead_mortality = n_catch * discard_dead_prob * discard_dead_mortality_prob\n",
    "print(discard_dead_mortality)"
   ]
  },
  {
   "cell_type": "code",
   "execution_count": 55,
   "id": "15e290b5",
   "metadata": {},
   "outputs": [
    {
     "data": {
      "text/plain": [
       "True"
      ]
     },
     "execution_count": 55,
     "metadata": {},
     "output_type": "execute_result"
    }
   ],
   "source": [
    "# Mortality of sharks discarded alive\n",
    "x2 = (\n",
    "    catch_count(offshore, \"discard_dead\", median_weight[\"offshore\"])\n",
    "    *\n",
    "    p_fate(fate, \"discard_dead\", \"offshore\")\n",
    "    *\n",
    "    m_fate(mortality, \"discard_dead\", \"offshore\")\n",
    ")\n",
    "x2 == discard_dead_mortality"
   ]
  },
  {
   "cell_type": "markdown",
   "id": "bc8f7f5e",
   "metadata": {},
   "source": [
    "##### 3.2.2.3 Mortality of sharks retained"
   ]
  },
  {
   "cell_type": "code",
   "execution_count": 56,
   "id": "2f3c282d",
   "metadata": {},
   "outputs": [
    {
     "name": "stdout",
     "output_type": "stream",
     "text": [
      "1106026672.5998592\n"
     ]
    },
    {
     "data": {
      "text/plain": [
       "30722963"
      ]
     },
     "execution_count": 56,
     "metadata": {},
     "output_type": "execute_result"
    }
   ],
   "source": [
    "# Catch count\n",
    "avg_weight = 36\n",
    "total_catch = offshore[offshore.catch_type == \"Landings\"][\"sum\"].sum()\n",
    "print(total_catch*1000)\n",
    "n_catch = int(total_catch*1000/avg_weight)\n",
    "n_catch"
   ]
  },
  {
   "cell_type": "code",
   "execution_count": 57,
   "id": "f5033c85",
   "metadata": {},
   "outputs": [
    {
     "data": {
      "text/plain": [
       "True"
      ]
     },
     "execution_count": 57,
     "metadata": {},
     "output_type": "execute_result"
    }
   ],
   "source": [
    "catch_count(offshore, \"retained\", median_weight[\"offshore\"]) == n_catch"
   ]
  },
  {
   "cell_type": "code",
   "execution_count": 58,
   "id": "8e7ee6ae",
   "metadata": {},
   "outputs": [
    {
     "name": "stdout",
     "output_type": "stream",
     "text": [
      "0.011840130851153163\n"
     ]
    }
   ],
   "source": [
    "# Probability of catch being retained\n",
    "retained_prob = fate_probs.loc[\"retained_whole\"]\n",
    "print(retained_prob)\n",
    "\n",
    "# Probability of retained catch mortality is 1 (fish dont survive on land)\n",
    "retained_mortality_prob = 1"
   ]
  },
  {
   "cell_type": "code",
   "execution_count": 59,
   "id": "f0057a49",
   "metadata": {},
   "outputs": [
    {
     "data": {
      "text/plain": [
       "True"
      ]
     },
     "execution_count": 59,
     "metadata": {},
     "output_type": "execute_result"
    }
   ],
   "source": [
    "p_fate(fate, \"retained\", \"offshore\") == retained_prob"
   ]
  },
  {
   "cell_type": "code",
   "execution_count": 60,
   "id": "1d53d876",
   "metadata": {},
   "outputs": [
    {
     "data": {
      "text/plain": [
       "363763.90205513715"
      ]
     },
     "execution_count": 60,
     "metadata": {},
     "output_type": "execute_result"
    }
   ],
   "source": [
    "# Mortality of sharks discarded dead\n",
    "retained_mortality = n_catch * retained_prob * retained_mortality_prob\n",
    "retained_mortality"
   ]
  },
  {
   "cell_type": "code",
   "execution_count": 61,
   "id": "4e737c02",
   "metadata": {},
   "outputs": [
    {
     "data": {
      "text/plain": [
       "True"
      ]
     },
     "execution_count": 61,
     "metadata": {},
     "output_type": "execute_result"
    }
   ],
   "source": [
    "# Mortality of sharks retained\n",
    "x3 = (\n",
    "    catch_count(offshore, \"retained\", median_weight[\"offshore\"])\n",
    "    *\n",
    "    p_fate(fate, \"retained\", \"offshore\")\n",
    "    *\n",
    "    m_fate(mortality, \"retained\", \"offshore\")\n",
    ")\n",
    "x3 == retained_mortality"
   ]
  },
  {
   "cell_type": "markdown",
   "id": "cb24e6f6",
   "metadata": {},
   "source": [
    "**Total mortality of Offshore Shark Spcies (rfmo)**"
   ]
  },
  {
   "cell_type": "code",
   "execution_count": 62,
   "id": "e83d9eda",
   "metadata": {
    "scrolled": true
   },
   "outputs": [
    {
     "data": {
      "text/plain": [
       "6009766.196317293"
      ]
     },
     "execution_count": 62,
     "metadata": {},
     "output_type": "execute_result"
    }
   ],
   "source": [
    "total_offshore_mortality = discard_alive_mortality + discard_dead_mortality + retained_mortality\n",
    "total_offshore_mortality"
   ]
  },
  {
   "cell_type": "code",
   "execution_count": 63,
   "id": "8b9ae718",
   "metadata": {},
   "outputs": [
    {
     "data": {
      "text/plain": [
       "True"
      ]
     },
     "execution_count": 63,
     "metadata": {},
     "output_type": "execute_result"
    }
   ],
   "source": [
    "total_offshore_mortality == (x + x2 + x3)"
   ]
  },
  {
   "cell_type": "code",
   "execution_count": 64,
   "id": "c60c37ed",
   "metadata": {},
   "outputs": [],
   "source": [
    "# offshore_mortalities = {}\n",
    "# for year, data in offshore.groupby(\"year\"):\n",
    "#     totals = []\n",
    "#     for f in fates:\n",
    "#         n_catch = catch_count(data, f, median_weight[\"offshore\"])\n",
    "#         p = p_fate(fate, f, \"offshore\")\n",
    "#         m = m_fate(mortality, f, \"offshore\")\n",
    "#         mortality_fate = n_catch * p * m\n",
    "#         totals.append(mortality_fate)\n",
    "#     total_mortality = sum(totals)\n",
    "#     print(f\"{year} : {total_mortality:.2f}\")\n",
    "#     offshore_mortalities[year] = total_mortality"
   ]
  },
  {
   "cell_type": "code",
   "execution_count": 65,
   "id": "6e5a3df8",
   "metadata": {},
   "outputs": [],
   "source": [
    "# plt.figure(figsize=(8, 6))\n",
    "# plt.bar(offshore_mortalities.keys(), offshore_mortalities.values(), color=\"grey\")\n",
    "# plt.plot(offshore_mortalities.keys(), offshore_mortalities.values(), color=\"red\")\n",
    "# plt.yscale(\"log\")\n",
    "# plt.ylabel(\"Mortality (count)\", fontsize=13)\n",
    "# plt.savefig(\"outputs/offshore-mortalities-by-year.jpg\", dpi=300)\n",
    "# plt.show()"
   ]
  },
  {
   "cell_type": "code",
   "execution_count": null,
   "id": "a63e217c",
   "metadata": {},
   "outputs": [],
   "source": []
  },
  {
   "cell_type": "code",
   "execution_count": 66,
   "id": "5f060c54",
   "metadata": {},
   "outputs": [
    {
     "name": "stdout",
     "output_type": "stream",
     "text": [
      "discard_alive \t| 3608262 x 0.45 x 0.04 = 65997.32\n",
      "discard_dead \t| 3608262 x 0.18 x 1.00 = 640465.55\n",
      "retained \t| 3360930 x 0.01 x 1.00 = 39793.85\n",
      "year: 2010; total mortality: 746256.72\n",
      "\n",
      "discard_alive \t| 3658802 x 0.45 x 0.04 = 66921.72\n",
      "discard_dead \t| 3658802 x 0.18 x 1.00 = 649436.39\n",
      "retained \t| 3622992 x 0.01 x 1.00 = 42896.70\n",
      "year: 2011; total mortality: 759254.81\n",
      "\n",
      "discard_alive \t| 3708194 x 0.45 x 0.04 = 67825.13\n",
      "discard_dead \t| 3708194 x 0.18 x 1.00 = 658203.45\n",
      "retained \t| 3419261 x 0.01 x 1.00 = 40484.50\n",
      "year: 2012; total mortality: 766513.08\n",
      "\n",
      "discard_alive \t| 3486336 x 0.45 x 0.04 = 63767.21\n",
      "discard_dead \t| 3486336 x 0.18 x 1.00 = 618823.72\n",
      "retained \t| 3160201 x 0.01 x 1.00 = 37417.19\n",
      "year: 2013; total mortality: 720008.13\n",
      "\n",
      "discard_alive \t| 3562474 x 0.45 x 0.04 = 65159.83\n",
      "discard_dead \t| 3562474 x 0.18 x 1.00 = 632338.19\n",
      "retained \t| 3330447 x 0.01 x 1.00 = 39432.93\n",
      "year: 2014; total mortality: 736930.95\n",
      "\n",
      "discard_alive \t| 2885546 x 0.45 x 0.04 = 52778.40\n",
      "discard_dead \t| 2885546 x 0.18 x 1.00 = 512183.65\n",
      "retained \t| 3297708 x 0.01 x 1.00 = 39045.29\n",
      "year: 2015; total mortality: 604007.34\n",
      "\n",
      "discard_alive \t| 2589868 x 0.45 x 0.04 = 47370.27\n",
      "discard_dead \t| 2589868 x 0.18 x 1.00 = 459700.88\n",
      "retained \t| 3680243 x 0.01 x 1.00 = 43574.56\n",
      "year: 2016; total mortality: 550645.71\n",
      "\n",
      "discard_alive \t| 2686083 x 0.45 x 0.04 = 49130.10\n",
      "discard_dead \t| 2686083 x 0.18 x 1.00 = 476779.02\n",
      "retained \t| 3451748 x 0.01 x 1.00 = 40869.15\n",
      "year: 2017; total mortality: 566778.27\n",
      "\n",
      "discard_alive \t| 2651412 x 0.45 x 0.04 = 48495.94\n",
      "discard_dead \t| 2651412 x 0.18 x 1.00 = 470624.93\n",
      "retained \t| 3399428 x 0.01 x 1.00 = 40249.67\n",
      "year: 2018; total mortality: 559370.55\n",
      "\n"
     ]
    }
   ],
   "source": [
    "offshore_mortalities = []\n",
    "for year, data in offshore.groupby(\"year\"):\n",
    "    totals = []\n",
    "    for f in fates:\n",
    "        n_catch = catch_count(data, f, median_weight[\"offshore\"])\n",
    "        p = p_fate(fate, f, \"offshore\")\n",
    "        m = m_fate(mortality, f, \"offshore\")\n",
    "        mortality_fate = n_catch * p * m\n",
    "        print(f\"{f} \\t| {n_catch} x {p:.2f} x {m:.2f} = {mortality_fate:.2f}\")\n",
    "        info = {\n",
    "            \"year\": year, \n",
    "            \"fate\": f, \n",
    "            \"n_catch\": n_catch, \n",
    "            f\"p_fate\": p, \n",
    "            f\"m_fate\": m,\n",
    "            f\"mortality_fate\": mortality_fate,\n",
    "        }\n",
    "        offshore_mortalities.append(info)\n",
    "        totals.append(mortality_fate)\n",
    "    total_mortality = sum(totals)\n",
    "    print(f\"year: {year}; total mortality: {total_mortality:.2f}\\n\")"
   ]
  },
  {
   "cell_type": "code",
   "execution_count": 67,
   "id": "4053f578",
   "metadata": {},
   "outputs": [
    {
     "data": {
      "text/html": [
       "<div>\n",
       "<style scoped>\n",
       "    .dataframe tbody tr th:only-of-type {\n",
       "        vertical-align: middle;\n",
       "    }\n",
       "\n",
       "    .dataframe tbody tr th {\n",
       "        vertical-align: top;\n",
       "    }\n",
       "\n",
       "    .dataframe thead th {\n",
       "        text-align: right;\n",
       "    }\n",
       "</style>\n",
       "<table border=\"1\" class=\"dataframe\">\n",
       "  <thead>\n",
       "    <tr style=\"text-align: right;\">\n",
       "      <th></th>\n",
       "      <th>year</th>\n",
       "      <th>fate</th>\n",
       "      <th>n_catch</th>\n",
       "      <th>p_fate</th>\n",
       "      <th>m_fate</th>\n",
       "      <th>mortality_fate</th>\n",
       "    </tr>\n",
       "  </thead>\n",
       "  <tbody>\n",
       "    <tr>\n",
       "      <th>0</th>\n",
       "      <td>2010</td>\n",
       "      <td>discard_alive</td>\n",
       "      <td>3608262</td>\n",
       "      <td>0.445858</td>\n",
       "      <td>0.041023</td>\n",
       "      <td>65997.315840</td>\n",
       "    </tr>\n",
       "    <tr>\n",
       "      <th>1</th>\n",
       "      <td>2010</td>\n",
       "      <td>discard_dead</td>\n",
       "      <td>3608262</td>\n",
       "      <td>0.177500</td>\n",
       "      <td>1.000000</td>\n",
       "      <td>640465.549907</td>\n",
       "    </tr>\n",
       "    <tr>\n",
       "      <th>2</th>\n",
       "      <td>2010</td>\n",
       "      <td>retained</td>\n",
       "      <td>3360930</td>\n",
       "      <td>0.011840</td>\n",
       "      <td>1.000000</td>\n",
       "      <td>39793.850982</td>\n",
       "    </tr>\n",
       "    <tr>\n",
       "      <th>3</th>\n",
       "      <td>2011</td>\n",
       "      <td>discard_alive</td>\n",
       "      <td>3658802</td>\n",
       "      <td>0.445858</td>\n",
       "      <td>0.041023</td>\n",
       "      <td>66921.723309</td>\n",
       "    </tr>\n",
       "    <tr>\n",
       "      <th>4</th>\n",
       "      <td>2011</td>\n",
       "      <td>discard_dead</td>\n",
       "      <td>3658802</td>\n",
       "      <td>0.177500</td>\n",
       "      <td>1.000000</td>\n",
       "      <td>649436.386529</td>\n",
       "    </tr>\n",
       "    <tr>\n",
       "      <th>5</th>\n",
       "      <td>2011</td>\n",
       "      <td>retained</td>\n",
       "      <td>3622992</td>\n",
       "      <td>0.011840</td>\n",
       "      <td>1.000000</td>\n",
       "      <td>42896.699353</td>\n",
       "    </tr>\n",
       "    <tr>\n",
       "      <th>6</th>\n",
       "      <td>2012</td>\n",
       "      <td>discard_alive</td>\n",
       "      <td>3708194</td>\n",
       "      <td>0.445858</td>\n",
       "      <td>0.041023</td>\n",
       "      <td>67825.133157</td>\n",
       "    </tr>\n",
       "    <tr>\n",
       "      <th>7</th>\n",
       "      <td>2012</td>\n",
       "      <td>discard_dead</td>\n",
       "      <td>3708194</td>\n",
       "      <td>0.177500</td>\n",
       "      <td>1.000000</td>\n",
       "      <td>658203.453455</td>\n",
       "    </tr>\n",
       "    <tr>\n",
       "      <th>8</th>\n",
       "      <td>2012</td>\n",
       "      <td>retained</td>\n",
       "      <td>3419261</td>\n",
       "      <td>0.011840</td>\n",
       "      <td>1.000000</td>\n",
       "      <td>40484.497654</td>\n",
       "    </tr>\n",
       "    <tr>\n",
       "      <th>9</th>\n",
       "      <td>2013</td>\n",
       "      <td>discard_alive</td>\n",
       "      <td>3486336</td>\n",
       "      <td>0.445858</td>\n",
       "      <td>0.041023</td>\n",
       "      <td>63767.214830</td>\n",
       "    </tr>\n",
       "    <tr>\n",
       "      <th>10</th>\n",
       "      <td>2013</td>\n",
       "      <td>discard_dead</td>\n",
       "      <td>3486336</td>\n",
       "      <td>0.177500</td>\n",
       "      <td>1.000000</td>\n",
       "      <td>618823.717180</td>\n",
       "    </tr>\n",
       "    <tr>\n",
       "      <th>11</th>\n",
       "      <td>2013</td>\n",
       "      <td>retained</td>\n",
       "      <td>3160201</td>\n",
       "      <td>0.011840</td>\n",
       "      <td>1.000000</td>\n",
       "      <td>37417.193356</td>\n",
       "    </tr>\n",
       "    <tr>\n",
       "      <th>12</th>\n",
       "      <td>2014</td>\n",
       "      <td>discard_alive</td>\n",
       "      <td>3562474</td>\n",
       "      <td>0.445858</td>\n",
       "      <td>0.041023</td>\n",
       "      <td>65159.825354</td>\n",
       "    </tr>\n",
       "    <tr>\n",
       "      <th>13</th>\n",
       "      <td>2014</td>\n",
       "      <td>discard_dead</td>\n",
       "      <td>3562474</td>\n",
       "      <td>0.177500</td>\n",
       "      <td>1.000000</td>\n",
       "      <td>632338.192027</td>\n",
       "    </tr>\n",
       "    <tr>\n",
       "      <th>14</th>\n",
       "      <td>2014</td>\n",
       "      <td>retained</td>\n",
       "      <td>3330447</td>\n",
       "      <td>0.011840</td>\n",
       "      <td>1.000000</td>\n",
       "      <td>39432.928273</td>\n",
       "    </tr>\n",
       "    <tr>\n",
       "      <th>15</th>\n",
       "      <td>2015</td>\n",
       "      <td>discard_alive</td>\n",
       "      <td>2885546</td>\n",
       "      <td>0.445858</td>\n",
       "      <td>0.041023</td>\n",
       "      <td>52778.398779</td>\n",
       "    </tr>\n",
       "    <tr>\n",
       "      <th>16</th>\n",
       "      <td>2015</td>\n",
       "      <td>discard_dead</td>\n",
       "      <td>2885546</td>\n",
       "      <td>0.177500</td>\n",
       "      <td>1.000000</td>\n",
       "      <td>512183.651207</td>\n",
       "    </tr>\n",
       "    <tr>\n",
       "      <th>17</th>\n",
       "      <td>2015</td>\n",
       "      <td>retained</td>\n",
       "      <td>3297708</td>\n",
       "      <td>0.011840</td>\n",
       "      <td>1.000000</td>\n",
       "      <td>39045.294229</td>\n",
       "    </tr>\n",
       "    <tr>\n",
       "      <th>18</th>\n",
       "      <td>2016</td>\n",
       "      <td>discard_alive</td>\n",
       "      <td>2589868</td>\n",
       "      <td>0.445858</td>\n",
       "      <td>0.041023</td>\n",
       "      <td>47370.267564</td>\n",
       "    </tr>\n",
       "    <tr>\n",
       "      <th>19</th>\n",
       "      <td>2016</td>\n",
       "      <td>discard_dead</td>\n",
       "      <td>2589868</td>\n",
       "      <td>0.177500</td>\n",
       "      <td>1.000000</td>\n",
       "      <td>459700.884472</td>\n",
       "    </tr>\n",
       "    <tr>\n",
       "      <th>20</th>\n",
       "      <td>2016</td>\n",
       "      <td>retained</td>\n",
       "      <td>3680243</td>\n",
       "      <td>0.011840</td>\n",
       "      <td>1.000000</td>\n",
       "      <td>43574.558684</td>\n",
       "    </tr>\n",
       "    <tr>\n",
       "      <th>21</th>\n",
       "      <td>2017</td>\n",
       "      <td>discard_alive</td>\n",
       "      <td>2686083</td>\n",
       "      <td>0.445858</td>\n",
       "      <td>0.041023</td>\n",
       "      <td>49130.098680</td>\n",
       "    </tr>\n",
       "    <tr>\n",
       "      <th>22</th>\n",
       "      <td>2017</td>\n",
       "      <td>discard_dead</td>\n",
       "      <td>2686083</td>\n",
       "      <td>0.177500</td>\n",
       "      <td>1.000000</td>\n",
       "      <td>476779.021504</td>\n",
       "    </tr>\n",
       "    <tr>\n",
       "      <th>23</th>\n",
       "      <td>2017</td>\n",
       "      <td>retained</td>\n",
       "      <td>3451748</td>\n",
       "      <td>0.011840</td>\n",
       "      <td>1.000000</td>\n",
       "      <td>40869.147985</td>\n",
       "    </tr>\n",
       "    <tr>\n",
       "      <th>24</th>\n",
       "      <td>2018</td>\n",
       "      <td>discard_alive</td>\n",
       "      <td>2651412</td>\n",
       "      <td>0.445858</td>\n",
       "      <td>0.041023</td>\n",
       "      <td>48495.944914</td>\n",
       "    </tr>\n",
       "    <tr>\n",
       "      <th>25</th>\n",
       "      <td>2018</td>\n",
       "      <td>discard_dead</td>\n",
       "      <td>2651412</td>\n",
       "      <td>0.177500</td>\n",
       "      <td>1.000000</td>\n",
       "      <td>470624.928182</td>\n",
       "    </tr>\n",
       "    <tr>\n",
       "      <th>26</th>\n",
       "      <td>2018</td>\n",
       "      <td>retained</td>\n",
       "      <td>3399428</td>\n",
       "      <td>0.011840</td>\n",
       "      <td>1.000000</td>\n",
       "      <td>40249.672339</td>\n",
       "    </tr>\n",
       "  </tbody>\n",
       "</table>\n",
       "</div>"
      ],
      "text/plain": [
       "    year           fate  n_catch    p_fate    m_fate  mortality_fate\n",
       "0   2010  discard_alive  3608262  0.445858  0.041023    65997.315840\n",
       "1   2010   discard_dead  3608262  0.177500  1.000000   640465.549907\n",
       "2   2010       retained  3360930  0.011840  1.000000    39793.850982\n",
       "3   2011  discard_alive  3658802  0.445858  0.041023    66921.723309\n",
       "4   2011   discard_dead  3658802  0.177500  1.000000   649436.386529\n",
       "5   2011       retained  3622992  0.011840  1.000000    42896.699353\n",
       "6   2012  discard_alive  3708194  0.445858  0.041023    67825.133157\n",
       "7   2012   discard_dead  3708194  0.177500  1.000000   658203.453455\n",
       "8   2012       retained  3419261  0.011840  1.000000    40484.497654\n",
       "9   2013  discard_alive  3486336  0.445858  0.041023    63767.214830\n",
       "10  2013   discard_dead  3486336  0.177500  1.000000   618823.717180\n",
       "11  2013       retained  3160201  0.011840  1.000000    37417.193356\n",
       "12  2014  discard_alive  3562474  0.445858  0.041023    65159.825354\n",
       "13  2014   discard_dead  3562474  0.177500  1.000000   632338.192027\n",
       "14  2014       retained  3330447  0.011840  1.000000    39432.928273\n",
       "15  2015  discard_alive  2885546  0.445858  0.041023    52778.398779\n",
       "16  2015   discard_dead  2885546  0.177500  1.000000   512183.651207\n",
       "17  2015       retained  3297708  0.011840  1.000000    39045.294229\n",
       "18  2016  discard_alive  2589868  0.445858  0.041023    47370.267564\n",
       "19  2016   discard_dead  2589868  0.177500  1.000000   459700.884472\n",
       "20  2016       retained  3680243  0.011840  1.000000    43574.558684\n",
       "21  2017  discard_alive  2686083  0.445858  0.041023    49130.098680\n",
       "22  2017   discard_dead  2686083  0.177500  1.000000   476779.021504\n",
       "23  2017       retained  3451748  0.011840  1.000000    40869.147985\n",
       "24  2018  discard_alive  2651412  0.445858  0.041023    48495.944914\n",
       "25  2018   discard_dead  2651412  0.177500  1.000000   470624.928182\n",
       "26  2018       retained  3399428  0.011840  1.000000    40249.672339"
      ]
     },
     "execution_count": 67,
     "metadata": {},
     "output_type": "execute_result"
    }
   ],
   "source": [
    "offshore_mdf = pd.DataFrame(offshore_mortalities)\n",
    "offshore_mdf.to_excel(\"outputs/offshore-mortalities-by-year.xlsx\", index=False)\n",
    "offshore_mdf"
   ]
  },
  {
   "cell_type": "code",
   "execution_count": 68,
   "id": "0fd29ecd",
   "metadata": {},
   "outputs": [
    {
     "data": {
      "text/html": [
       "<div>\n",
       "<style scoped>\n",
       "    .dataframe tbody tr th:only-of-type {\n",
       "        vertical-align: middle;\n",
       "    }\n",
       "\n",
       "    .dataframe tbody tr th {\n",
       "        vertical-align: top;\n",
       "    }\n",
       "\n",
       "    .dataframe thead th {\n",
       "        text-align: right;\n",
       "    }\n",
       "</style>\n",
       "<table border=\"1\" class=\"dataframe\">\n",
       "  <thead>\n",
       "    <tr style=\"text-align: right;\">\n",
       "      <th></th>\n",
       "      <th>total_mortality</th>\n",
       "    </tr>\n",
       "    <tr>\n",
       "      <th>year</th>\n",
       "      <th></th>\n",
       "    </tr>\n",
       "  </thead>\n",
       "  <tbody>\n",
       "    <tr>\n",
       "      <th>2010</th>\n",
       "      <td>746256.72</td>\n",
       "    </tr>\n",
       "    <tr>\n",
       "      <th>2011</th>\n",
       "      <td>759254.81</td>\n",
       "    </tr>\n",
       "    <tr>\n",
       "      <th>2012</th>\n",
       "      <td>766513.08</td>\n",
       "    </tr>\n",
       "    <tr>\n",
       "      <th>2013</th>\n",
       "      <td>720008.13</td>\n",
       "    </tr>\n",
       "    <tr>\n",
       "      <th>2014</th>\n",
       "      <td>736930.95</td>\n",
       "    </tr>\n",
       "    <tr>\n",
       "      <th>2015</th>\n",
       "      <td>604007.34</td>\n",
       "    </tr>\n",
       "    <tr>\n",
       "      <th>2016</th>\n",
       "      <td>550645.71</td>\n",
       "    </tr>\n",
       "    <tr>\n",
       "      <th>2017</th>\n",
       "      <td>566778.27</td>\n",
       "    </tr>\n",
       "    <tr>\n",
       "      <th>2018</th>\n",
       "      <td>559370.55</td>\n",
       "    </tr>\n",
       "  </tbody>\n",
       "</table>\n",
       "</div>"
      ],
      "text/plain": [
       "      total_mortality\n",
       "year                 \n",
       "2010        746256.72\n",
       "2011        759254.81\n",
       "2012        766513.08\n",
       "2013        720008.13\n",
       "2014        736930.95\n",
       "2015        604007.34\n",
       "2016        550645.71\n",
       "2017        566778.27\n",
       "2018        559370.55"
      ]
     },
     "execution_count": 68,
     "metadata": {},
     "output_type": "execute_result"
    }
   ],
   "source": [
    "offshore_mortalities = offshore_mdf.pivot_table(\n",
    "    index=\"year\",\n",
    "    values=\"mortality_fate\",\n",
    "    aggfunc=np.sum,\n",
    ")\n",
    "offshore_mortalities.columns = [\"total_mortality\"]\n",
    "offshore_mortalities.round(2)"
   ]
  },
  {
   "cell_type": "code",
   "execution_count": 69,
   "id": "261d7333",
   "metadata": {},
   "outputs": [
    {
     "data": {
      "image/png": "[encoded data removed]",
      "text/plain": [
       "<Figure size 576x432 with 1 Axes>"
      ]
     },
     "metadata": {},
     "output_type": "display_data"
    }
   ],
   "source": [
    "plt.figure(figsize=(8, 6))\n",
    "plt.bar(offshore_mortalities.index, offshore_mortalities.total_mortality, color=\"grey\")\n",
    "plt.plot(offshore_mortalities.index, offshore_mortalities.total_mortality, color=\"red\")\n",
    "plt.xticks(np.arange(2010, 2019))\n",
    "plt.yscale(\"log\")\n",
    "plt.ylabel(\"Mortality (count)\", fontsize=13)\n",
    "plt.savefig(\"outputs/offshore-mortalities-by-year.jpg\", dpi=300)\n",
    "plt.show()"
   ]
  },
  {
   "cell_type": "code",
   "execution_count": null,
   "id": "26a47522",
   "metadata": {},
   "outputs": [],
   "source": []
  }
 ],
 "metadata": {
  "kernelspec": {
   "display_name": "Python 3 (ipykernel)",
   "language": "python",
   "name": "python3"
  },
  "language_info": {
   "codemirror_mode": {
    "name": "ipython",
    "version": 3
   },
   "file_extension": ".py",
   "mimetype": "text/x-python",
   "name": "python",
   "nbconvert_exporter": "python",
   "pygments_lexer": "ipython3",
   "version": "3.9.7"
  }
 },
 "nbformat": 4,
 "nbformat_minor": 5
}
